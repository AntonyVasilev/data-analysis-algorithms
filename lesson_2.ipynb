{
 "cells": [
  {
   "cell_type": "markdown",
   "metadata": {},
   "source": [
    "### Практическое задание к уроку 2"
   ]
  },
  {
   "cell_type": "markdown",
   "metadata": {},
   "source": [
    "1. У вас, с прошлого урока, имеются реализации расчёта среднеквадратичной ошибки и её градиента для линейнй регрессии с коэффициентами при факторах(w) и свободным коэффициентам.  \n",
    "В этом задании вы должны модифицировать реализацию рассчёта среднеквадратичной ошибки и рассчёта её производной, так, чтобы с к среднеквадратичной ошибке добавлялась l2 регулярязационная поправка: $ +c*\\sum \\limits _{j}  w_{j}^2 $ а к градиенту- ссответствующее выражение для градиента регулярязационной поправки.  \n",
    "\n",
    "2. На основе этих функций создайте свою регуляризированную полиномиальную регрессию и опробуйте на одном из примеров построения полиномиальной модели из этого урока. <br>\n",
    "<i><b>Пояснение:</b> Для этого Вам достаточно создать класс, который наследуется от класса polynomial_regression из данного урока, и переопределить в нём методы mserror, mserror_grad(под переопределением подразумевается создание на новом классе методов с таким же названием). </i>\n",
    "\n",
    "3. \\* (по желанию). Оцените предсказательную способность реализованного метода с использование 5-ти ступенчатой кросс-валидации, показанной в примере выше. "
   ]
  },
  {
   "cell_type": "code",
   "execution_count": 1,
   "metadata": {},
   "outputs": [],
   "source": [
    "import numpy as np\n",
    "import pandas as pd\n",
    "import matplotlib.pyplot as plt\n",
    "\n",
    "from linear_regression import polynomial_regression\n",
    "\n",
    "%matplotlib inline\n",
    "np.set_printoptions(suppress=True)"
   ]
  },
  {
   "cell_type": "code",
   "execution_count": 2,
   "metadata": {},
   "outputs": [],
   "source": [
    "# Полиноминальная регнессия с L2 регуляризацией\n",
    "\n",
    "class polynomial_regression_with_l2(polynomial_regression):\n",
    "    \n",
    "    def __init__(self, alpha=1.0, *args, **kwargs):\n",
    "        # Сила (коэффициент) регуляризации\n",
    "        self.alpha = alpha\n",
    "        super().__init__(*args, **kwargs)\n",
    "    \n",
    "    def _mserror(self, X, y_real):\n",
    "        # рассчёт среднеквадратичной ошибки\n",
    "        y = X.dot(self.w.T) + self.w0\n",
    "        return (np.sum((y - y_real)**2) / y_real.shape[0]) + self.alpha * np.sum(np.append(self.w, self.w0) ** 2)\n",
    "    \n",
    "    def _mserror_grad(self, X, y_real):\n",
    "        # рассчёт градиента ошибки.\n",
    "        # 2*delta.T.dot(X)/y_real.shape[0] - градиент по коэффициентам при факторах\n",
    "        # np.sum(2*delta)/y_real.shape[0] - производная(градиент) при нулевом коэффициенте\n",
    "        delta = (X.dot(self.w.T) + self.w0 - y_real)\n",
    "        return 2 * delta.T.dot(X) / y_real.shape[0] + 2 * self.alpha * np.sum(np.append(self.w, self.w0)), np.sum(2 * delta) / y_real.shape[0] + 2 * self.alpha * np.sum(np.append(self.w, self.w0))"
   ]
  },
  {
   "cell_type": "code",
   "execution_count": 3,
   "metadata": {},
   "outputs": [
    {
     "data": {
      "text/plain": [
       "[<matplotlib.lines.Line2D at 0x22a7e204880>]"
      ]
     },
     "execution_count": 3,
     "metadata": {},
     "output_type": "execute_result"
    },
    {
     "data": {
      "image/png": "[encoded data removed]",
      "text/plain": [
       "<Figure size 432x288 with 1 Axes>"
      ]
     },
     "metadata": {
      "needs_background": "light"
     },
     "output_type": "display_data"
    }
   ],
   "source": [
    "# Строю график функции\n",
    "def f(x):\n",
    "    return 0.6 - 13.2 * x - 5.3 * x ** 2 - 4.17 * x ** 3\n",
    "dots = np.linspace(-10, 10, 100)\n",
    "plt.xlabel('x')\n",
    "plt.ylabel('f(x)')\n",
    "plt.ylim(-5000, 5000)\n",
    "plt.xlim(-10,10)\n",
    "\n",
    "plt.plot(dots, f(dots), color='g')"
   ]
  },
  {
   "cell_type": "code",
   "execution_count": 4,
   "metadata": {},
   "outputs": [],
   "source": [
    "# Генерирую 10 случайных точек с шумом\n",
    "np.random.seed(0)\n",
    "x_data = np.random.uniform(-10, 10, 10)\n",
    "f_data = [f(i) for i in x_data] + np.random.uniform(-1000, 1000, 10)"
   ]
  },
  {
   "cell_type": "code",
   "execution_count": 5,
   "metadata": {},
   "outputs": [
    {
     "data": {
      "text/plain": [
       "<matplotlib.collections.PathCollection at 0x22a7e530eb0>"
      ]
     },
     "execution_count": 5,
     "metadata": {},
     "output_type": "execute_result"
    },
    {
     "data": {
      "image/png": "[encoded data removed]",
      "text/plain": [
       "<Figure size 432x288 with 1 Axes>"
      ]
     },
     "metadata": {
      "needs_background": "light"
     },
     "output_type": "display_data"
    }
   ],
   "source": [
    "plt.xlabel('x')\n",
    "plt.ylabel('f(x)')\n",
    "plt.ylim(-5000, 5000)\n",
    "plt.xlim(-10,10)\n",
    "\n",
    "plt.plot(dots, f(dots), color='g')\n",
    "plt.scatter(x_data, f_data)"
   ]
  },
  {
   "cell_type": "code",
   "execution_count": 6,
   "metadata": {},
   "outputs": [
    {
     "data": {
      "text/plain": [
       "array([ 0.97627008,  4.30378733,  2.05526752,  0.89766366, -1.52690401,\n",
       "        2.91788226, -1.24825577,  7.83546002,  9.27325521, -2.33116962])"
      ]
     },
     "execution_count": 6,
     "metadata": {},
     "output_type": "execute_result"
    }
   ],
   "source": [
    "x_data"
   ]
  },
  {
   "cell_type": "code",
   "execution_count": 7,
   "metadata": {},
   "outputs": [
    {
     "data": {
      "text/plain": [
       "array([  562.23173636,  -429.01086378,    50.96901631,   832.65705899,\n",
       "        -834.68466621, -1012.37697356,  -942.63389938, -1768.97251701,\n",
       "       -3346.57199233,   795.42088169])"
      ]
     },
     "execution_count": 7,
     "metadata": {},
     "output_type": "execute_result"
    }
   ],
   "source": [
    "f_data"
   ]
  },
  {
   "cell_type": "code",
   "execution_count": 8,
   "metadata": {},
   "outputs": [
    {
     "name": "stdout",
     "output_type": "stream",
     "text": [
      "Коэффициенты при факторах: [[ 3.10500874 -2.14610118 -3.89594383]], нулевой коэффициент (интерcепт): 2.2133766910605672\n"
     ]
    }
   ],
   "source": [
    "# Построение полиномиальной регрессии с L2 регуляризацией\n",
    "poly_mod_f2=polynomial_regression_with_l2(max_power=3, alpha=100)\n",
    "poly_mod_f2.fit(x_data, f_data)\n",
    "print(f'Коэффициенты при факторах: {poly_mod_f2.w}, нулевой коэффициент (интерcепт): {poly_mod_f2.w0}')"
   ]
  },
  {
   "cell_type": "code",
   "execution_count": 9,
   "metadata": {},
   "outputs": [
    {
     "name": "stdout",
     "output_type": "stream",
     "text": [
      "Коэффициенты при факторах: [[ 0.16607311 -3.79621822 -3.66447349]], нулевой коэффициент (интерcепт): -0.9528367163131777\n"
     ]
    }
   ],
   "source": [
    "# Построение полиномиальной регрессии без регуляризацией\n",
    "poly_mod = polynomial_regression(3)\n",
    "poly_mod.fit(x_data, f_data)\n",
    "print(f'Коэффициенты при факторах: {poly_mod.w}, нулевой коэффициент (интерcепт): {poly_mod.w0}')"
   ]
  },
  {
   "cell_type": "code",
   "execution_count": 10,
   "metadata": {},
   "outputs": [
    {
     "data": {
      "image/png": "[encoded data removed]",
      "text/plain": [
       "<Figure size 864x576 with 1 Axes>"
      ]
     },
     "metadata": {
      "needs_background": "light"
     },
     "output_type": "display_data"
    }
   ],
   "source": [
    "# Графики функций с получившимися коэффициентами\n",
    "plt.figure(figsize=(12, 8))\n",
    "\n",
    "plt.xlabel('x')\n",
    "plt.ylabel('f(x)')\n",
    "plt.ylim(-5000, 5000)\n",
    "plt.xlim(-10,10)\n",
    "plt.plot(dots, f(dots), color='g', label='true function')\n",
    "plt.scatter(x_data, f_data)\n",
    "\n",
    "# Полиномиальная регрессия с регуляризатором f2\n",
    "plt.plot(dots, poly_mod_f2.predict(dots), 'r--', linewidth=2, label='with L2')\n",
    "\n",
    "# Полиномиальная регрессия\n",
    "plt.plot(dots, poly_mod.predict(dots), 'b:', label='without L2')\n",
    "\n",
    "plt.legend()\n",
    "plt.show()"
   ]
  },
  {
   "cell_type": "markdown",
   "metadata": {},
   "source": [
    "Как видно из графиков, полиномиальная модель с регуляризацией немного точнее по сравнению с моделью беp регуляризации. Особенно хорошо это видно в левой верхней части графика.  \n",
    "Расчитаю коэффициент $R^2$ и проведу 5-ступенчатую кросс-валидацию для оценки получившейся модели."
   ]
  },
  {
   "cell_type": "code",
   "execution_count": 11,
   "metadata": {},
   "outputs": [
    {
     "name": "stdout",
     "output_type": "stream",
     "text": [
      "0.7286622054159442\n"
     ]
    }
   ],
   "source": [
    "# Расчет коэффициента R^2\n",
    "def r_square(y, y_real):\n",
    "    ss_total=np.sum((y_real-np.mean(y_real))**2)\n",
    "    ss_res=np.sum((y_real-y)**2)\n",
    "    return 1-ss_res/ss_total\n",
    "\n",
    "print(r_square(poly_mod_f2.predict(x_data), f_data))"
   ]
  },
  {
   "cell_type": "code",
   "execution_count": 12,
   "metadata": {},
   "outputs": [
    {
     "name": "stdout",
     "output_type": "stream",
     "text": [
      "0.700723746434218\n"
     ]
    }
   ],
   "source": [
    "# Кросс-валидация модели с регуляризацией\n",
    "indexes = np.arange(len(f_data)) % 5\n",
    "y_actual = []\n",
    "y_predicted = []\n",
    "\n",
    "for i in range(5):\n",
    "    y_actual.append(f_data[indexes == i])\n",
    "    model = polynomial_regression_with_l2(max_power=3, alpha=100)\n",
    "    model.fit(x_data[indexes != i], f_data[indexes != i])\n",
    "    y_predicted.append(model.predict(x_data[indexes == i]))\n",
    "    \n",
    "y_actual = np.concatenate(y_actual)\n",
    "y_predicted = np.concatenate(y_predicted)\n",
    "print(r_square(y_predicted, y_actual))"
   ]
  },
  {
   "cell_type": "code",
   "execution_count": 13,
   "metadata": {},
   "outputs": [
    {
     "name": "stdout",
     "output_type": "stream",
     "text": [
      "0.6808290363871259\n"
     ]
    }
   ],
   "source": [
    "# Кросс-валидация модели без регуляризации\n",
    "indexes = np.arange(len(f_data)) % 5\n",
    "y_actual = []\n",
    "y_predicted = []\n",
    "\n",
    "for i in range(5):\n",
    "    y_actual.append(f_data[indexes == i])\n",
    "    model1 = polynomial_regression(3)\n",
    "    model1.fit(x_data[indexes != i], f_data[indexes != i])\n",
    "    y_predicted.append(model1.predict(x_data[indexes == i]))\n",
    "    \n",
    "y_actual = np.concatenate(y_actual)\n",
    "y_predicted = np.concatenate(y_predicted)\n",
    "print(r_square(y_predicted, y_actual))"
   ]
  },
  {
   "cell_type": "markdown",
   "metadata": {},
   "source": [
    "Результаты кросс-валидации моделей потвердили вывод о более лучшем результате, показываемом полиномиальной функцией с L2 регуляризацией."
   ]
  },
  {
   "cell_type": "code",
   "execution_count": null,
   "metadata": {},
   "outputs": [],
   "source": []
  }
 ],
 "metadata": {
  "kernelspec": {
   "display_name": "Python 3",
   "language": "python",
   "name": "python3"
  },
  "language_info": {
   "codemirror_mode": {
    "name": "ipython",
    "version": 3
   },
   "file_extension": ".py",
   "mimetype": "text/x-python",
   "name": "python",
   "nbconvert_exporter": "python",
   "pygments_lexer": "ipython3",
   "version": "3.8.5"
  }
 },
 "nbformat": 4,
 "nbformat_minor": 5
}
