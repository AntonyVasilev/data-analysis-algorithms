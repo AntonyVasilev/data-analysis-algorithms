{
 "cells": [
  {
   "cell_type": "markdown",
   "id": "floating-radar",
   "metadata": {},
   "source": [
    "### Практическое задание к уроку 4\n",
    "1) реализовать аналогичного изученному дерева решений, использующего энтропию Шенонна в качестве критерия информативности и сравнить точность(accuracy, balanced_accuracy) достигаемую на используемых синтетических данных с точностью разобранной на уроке реализации\n",
    "2) реализовать ограничение глубины дерева при построении. Построить на этом же датасете дерево, у которого максимальная глубна листа равна 2."
   ]
  },
  {
   "cell_type": "code",
   "execution_count": 1,
   "id": "affecting-detection",
   "metadata": {},
   "outputs": [],
   "source": [
    "import matplotlib.pyplot as plt\n",
    "import random\n",
    "\n",
    "from matplotlib.colors import ListedColormap\n",
    "from sklearn import datasets\n",
    "from sklearn import model_selection\n",
    "\n",
    "import numpy as np"
   ]
  },
  {
   "cell_type": "markdown",
   "id": "white-sociology",
   "metadata": {},
   "source": [
    "Реализовал постоение дерева решений в виде класса. По умолчания используется критерий Джинни. Для использования энтропии Шеннона необходимо при создании экзеспляра класса указать параметр method=\"entropy\".  \n",
    "Расчет метрик accuracy и balanced accuracy также реализованы в классе."
   ]
  },
  {
   "cell_type": "code",
   "execution_count": 66,
   "id": "greek-participant",
   "metadata": {},
   "outputs": [],
   "source": [
    "class DecisionTree:\n",
    "    \n",
    "    class Node:\n",
    "    \n",
    "        def __init__(self, index, t, true_branch, false_branch):\n",
    "            self.index = index  # индекс признака, по которому ведется сравнение с порогом в этом узле\n",
    "            self.t = t  # значение порога\n",
    "            self.true_branch = true_branch  # поддерево, удовлетворяющее условию в узле\n",
    "            self.false_branch = false_branch  # поддерево, не удовлетворяющее условию в узле\n",
    "        \n",
    "\n",
    "    class Leaf:\n",
    "\n",
    "        def __init__(self, data, labels):\n",
    "            self.data = data\n",
    "            self.labels = labels\n",
    "            self.prediction = self.predict()\n",
    "\n",
    "        def predict(self):\n",
    "            # подсчет количества объектов разных классов\n",
    "            classes = {}  # сформируем словарь \"класс: количество объектов\"\n",
    "            for label in self.labels:\n",
    "                if label not in classes:\n",
    "                    classes[label] = 0\n",
    "                classes[label] += 1\n",
    "            #  найдем класс, количество объектов которого будет максимальным в этом листе и вернем его    \n",
    "            prediction = max(classes, key=classes.get)\n",
    "            return prediction  \n",
    "    \n",
    "    \n",
    "    def __init__(self, method='gini'):\n",
    "        self.method = method\n",
    "        \n",
    "    def _H(self, labels):\n",
    "        classes = {}\n",
    "        for label in labels:\n",
    "            if label not in classes:\n",
    "                classes[label] = 0\n",
    "            classes[label] += 1\n",
    "        \n",
    "        impurity = 0\n",
    "        \n",
    "        if self.method == 'entropy':\n",
    "            impurity = 0\n",
    "            for label in classes:\n",
    "                p = classes[label] / len(labels)\n",
    "                # Если p равна нулю, то не изменяем impurity, т.к. полагается, что 0*np.log2(0)=0\n",
    "                if p != 0:\n",
    "                    impurity -= p * np.log2(p)\n",
    "        else:\n",
    "            impurity = 1\n",
    "            for label in classes:\n",
    "                p = classes[label] / len(labels)\n",
    "                impurity -= p ** 2\n",
    "\n",
    "        return impurity\n",
    "\n",
    "    def _quality(self, left_labels, right_labels, current_H):\n",
    "\n",
    "        p = float(left_labels.shape[0]) / (left_labels.shape[0] + right_labels.shape[0])\n",
    "\n",
    "        return current_H - p * self._H(left_labels) - (1 - p) * self._H(right_labels)\n",
    "\n",
    "    def _split(self, data, labels, index, t):\n",
    "\n",
    "        left = np.where(data[:, index] <= t)\n",
    "        right = np.where(data[:, index] > t)\n",
    "\n",
    "        true_data = data[left]\n",
    "        false_data = data[right]\n",
    "        true_labels = labels[left]\n",
    "        false_labels = labels[right]\n",
    "\n",
    "        return true_data, false_data, true_labels, false_labels\n",
    "\n",
    "    def _find_best_split(self, data, labels):\n",
    "\n",
    "        #  обозначим минимальное количество объектов в узле\n",
    "        min_leaf = 5\n",
    "\n",
    "        current_H = self._H(labels)\n",
    "\n",
    "        best_quality = 0\n",
    "        best_t = None\n",
    "        best_index = None\n",
    "\n",
    "        n_features = data.shape[1]\n",
    "\n",
    "        for index in range(n_features):\n",
    "            # будем проверять только уникальные значения признака, исключая повторения\n",
    "            t_values = np.unique([row[index] for row in data])\n",
    "\n",
    "            for t in t_values:\n",
    "                true_data, false_data, true_labels, false_labels = self._split(data, labels, index, t)\n",
    "                #  пропускаем разбиения, в которых в узле остается менее 5 объектов\n",
    "                if len(true_data) < min_leaf or len(false_data) < min_leaf:\n",
    "                    continue\n",
    "\n",
    "                current_quality = self._quality(true_labels, false_labels, current_H)\n",
    "\n",
    "                #  выбираем порог, на котором получается максимальный прирост качества\n",
    "                if current_quality > best_quality:\n",
    "                    best_quality, best_t, best_index = current_quality, t, index\n",
    "\n",
    "        return best_quality, best_t, best_index\n",
    "\n",
    "    def _build_tree(self, data, labels, current_deep):\n",
    "        \n",
    "        if current_deep is not None:\n",
    "            if current_deep == 0:\n",
    "                return self.Leaf(data, labels)\n",
    "            current_deep -= 1\n",
    "        \n",
    "        quality, t, index = self._find_best_split(data, labels)\n",
    "\n",
    "        #  Базовый случай - прекращаем рекурсию, когда нет прироста в качества\n",
    "        if quality == 0:\n",
    "            return self.Leaf(data, labels)\n",
    "\n",
    "        true_data, false_data, true_labels, false_labels = self._split(data, labels, index, t)\n",
    "\n",
    "        # Рекурсивно строим два поддерева\n",
    "        true_branch = self._build_tree(true_data, true_labels, current_deep)\n",
    "        false_branch = self._build_tree(false_data, false_labels, current_deep)\n",
    "    \n",
    "        # Возвращаем класс узла со всеми поддеревьями, то есть целого дерева\n",
    "        return self.Node(index, t, true_branch, false_branch)\n",
    "        \n",
    "    def build(self, data, labels, max_deep=None):\n",
    "        self.tree = self._build_tree(data, labels, max_deep)\n",
    "\n",
    "    def _classify_object(self, obj, node):\n",
    "\n",
    "        #  Останавливаем рекурсию, если достигли листа\n",
    "        if isinstance(node, self.Leaf):\n",
    "            answer = node.prediction\n",
    "            return answer\n",
    "\n",
    "        if obj[node.index] <= node.t:\n",
    "            return self._classify_object(obj, node.true_branch)\n",
    "        else:\n",
    "            return self._classify_object(obj, node.false_branch)\n",
    "\n",
    "    def predict(self, data):\n",
    "\n",
    "        classes = []\n",
    "        for obj in data:\n",
    "            prediction = self._classify_object(obj, self.tree)\n",
    "            classes.append(prediction)\n",
    "        return classes\n",
    "    \n",
    "    def print_tree(self, spacing=\"\"):\n",
    "        self._print_tree(self.tree, 0, spacing)\n",
    "    \n",
    "    def _print_tree(self, node, level, spacing=\"\"):\n",
    "        # Если лист, то выводим его прогноз\n",
    "        if isinstance(node, self.Leaf):\n",
    "            print(f'{spacing}Уровень {level}-> Прогноз: {node.prediction}')\n",
    "            return\n",
    "\n",
    "        # Выведем значение индекса и порога на этом узле\n",
    "        print(spacing + 'Индекс', str(node.index))\n",
    "        print(spacing + 'Порог', str(node.t))\n",
    "\n",
    "        # Рекурсионный вызов функции на положительном поддереве\n",
    "        print (spacing + '--> True:')\n",
    "        self._print_tree(node.true_branch, level + 1, spacing + \"  \")\n",
    "\n",
    "        # Рекурсионный вызов функции на положительном поддереве\n",
    "        print (spacing + '--> False:')\n",
    "        self._print_tree(node.false_branch, level + 1, spacing + \"  \")\n",
    "    \n",
    "    def accuracy(self, data, labels):\n",
    "        answers = self.predict(data)\n",
    "        return self._accuracy_metric(labels, answers)\n",
    "        \n",
    "    def _accuracy_metric(self, actual, predicted):\n",
    "        return np.sum(actual==predicted)/len(actual)\n",
    "    \n",
    "    def balanced_accuracy(self, data, labels):\n",
    "        answers = self.predict(data)\n",
    "        return self._balanced_accuracy_metric(labels, answers)\n",
    "\n",
    "    def _balanced_accuracy_metric(self, actual, predicted):\n",
    "        true_predicted=(actual==predicted).astype(int)\n",
    "        sensitivity=np.sum(actual*true_predicted)/np.sum(actual==1)\n",
    "        specificity=np.sum((1-actual)*true_predicted)/np.sum(actual==0)\n",
    "        return 0.5*(sensitivity+specificity)"
   ]
  },
  {
   "cell_type": "code",
   "execution_count": 30,
   "id": "charged-probe",
   "metadata": {},
   "outputs": [
    {
     "data": {
      "text/plain": [
       "<matplotlib.collections.PathCollection at 0x29007a3dee0>"
      ]
     },
     "execution_count": 30,
     "metadata": {},
     "output_type": "execute_result"
    },
    {
     "data": {
      "image/png": "[encoded data removed]",
      "text/plain": [
       "<Figure size 576x576 with 1 Axes>"
      ]
     },
     "metadata": {
      "needs_background": "light"
     },
     "output_type": "display_data"
    }
   ],
   "source": [
    "classification_data, classification_labels = datasets.make_classification(n_features = 2, n_informative = 2, \n",
    "                                                      n_classes = 2, n_redundant=0, \n",
    "                                                      n_clusters_per_class=1, random_state=5)\n",
    "\n",
    "colors = ListedColormap(['red', 'blue'])\n",
    "light_colors = ListedColormap(['lightcoral', 'lightblue'])\n",
    "\n",
    "plt.figure(figsize=(8,8))\n",
    "plt.scatter(list(map(lambda x: x[0], classification_data)), list(map(lambda x: x[1], classification_data)), \n",
    "              c=classification_labels, cmap=colors)"
   ]
  },
  {
   "cell_type": "code",
   "execution_count": 57,
   "id": "flying-ireland",
   "metadata": {},
   "outputs": [],
   "source": [
    "train_data, test_data, train_labels, test_labels = model_selection.train_test_split(classification_data, \n",
    "                                                                                     classification_labels, \n",
    "                                                                                     test_size = 0.3,\n",
    "                                                                                     random_state = 1)"
   ]
  },
  {
   "cell_type": "markdown",
   "id": "charitable-stick",
   "metadata": {},
   "source": [
    "Дерево, использующее энтропию Шэннона в качестве критерия информативности."
   ]
  },
  {
   "cell_type": "code",
   "execution_count": 67,
   "id": "alternative-builder",
   "metadata": {},
   "outputs": [],
   "source": [
    "tree_model_e = DecisionTree(method='entropy')"
   ]
  },
  {
   "cell_type": "code",
   "execution_count": 74,
   "id": "sustained-exclusive",
   "metadata": {},
   "outputs": [],
   "source": [
    "tree_model_e.build(train_data, train_labels, 2)"
   ]
  },
  {
   "cell_type": "code",
   "execution_count": 75,
   "id": "legal-works",
   "metadata": {},
   "outputs": [
    {
     "name": "stdout",
     "output_type": "stream",
     "text": [
      "Индекс 0\n",
      "Порог 0.16261402870113306\n",
      "--> True:\n",
      "  Индекс 1\n",
      "  Порог -1.5208896621663803\n",
      "  --> True:\n",
      "    Уровень 2-> Прогноз: 0\n",
      "  --> False:\n",
      "    Уровень 2-> Прогноз: 0\n",
      "--> False:\n",
      "  Уровень 1-> Прогноз: 1\n"
     ]
    }
   ],
   "source": [
    "tree_model_e.print_tree()"
   ]
  },
  {
   "cell_type": "code",
   "execution_count": 76,
   "id": "ongoing-obligation",
   "metadata": {},
   "outputs": [
    {
     "name": "stdout",
     "output_type": "stream",
     "text": [
      "Train accuracy: 0.9285714285714286\n",
      "Train balanced accuracy: 0.9285714285714286\n"
     ]
    }
   ],
   "source": [
    "print(f'Train accuracy: {tree_model_e.accuracy(train_data, train_labels)}\\nTrain balanced accuracy: {tree_model_e.balanced_accuracy(train_data, train_labels)}')"
   ]
  },
  {
   "cell_type": "code",
   "execution_count": 77,
   "id": "silent-artwork",
   "metadata": {},
   "outputs": [
    {
     "name": "stdout",
     "output_type": "stream",
     "text": [
      "Test accuracy: 0.9666666666666667\n",
      "Test balanced accuracy: 0.9666666666666667\n"
     ]
    }
   ],
   "source": [
    "print(f'Test accuracy: {tree_model_e.accuracy(test_data, test_labels)}\\nTest balanced accuracy: {tree_model_e.balanced_accuracy(test_data, test_labels)}')"
   ]
  },
  {
   "cell_type": "markdown",
   "id": "prepared-arizona",
   "metadata": {},
   "source": [
    "Дерево, использующее критерий Джинни в качестве критерия информативности."
   ]
  },
  {
   "cell_type": "code",
   "execution_count": 78,
   "id": "latin-present",
   "metadata": {},
   "outputs": [],
   "source": [
    "tree_model = DecisionTree()"
   ]
  },
  {
   "cell_type": "code",
   "execution_count": 79,
   "id": "above-diagram",
   "metadata": {},
   "outputs": [],
   "source": [
    "tree_model.build(train_data, train_labels)"
   ]
  },
  {
   "cell_type": "code",
   "execution_count": 80,
   "id": "sacred-prize",
   "metadata": {},
   "outputs": [
    {
     "name": "stdout",
     "output_type": "stream",
     "text": [
      "Индекс 0\n",
      "Порог 0.16261402870113306\n",
      "--> True:\n",
      "  Индекс 1\n",
      "  Порог -1.5208896621663803\n",
      "  --> True:\n",
      "    Индекс 0\n",
      "    Порог -0.9478301462477035\n",
      "    --> True:\n",
      "      Уровень 3-> Прогноз: 0\n",
      "    --> False:\n",
      "      Уровень 3-> Прогноз: 1\n",
      "  --> False:\n",
      "    Уровень 2-> Прогноз: 0\n",
      "--> False:\n",
      "  Уровень 1-> Прогноз: 1\n"
     ]
    }
   ],
   "source": [
    "tree_model.print_tree()"
   ]
  },
  {
   "cell_type": "code",
   "execution_count": 81,
   "id": "effective-strap",
   "metadata": {},
   "outputs": [
    {
     "name": "stdout",
     "output_type": "stream",
     "text": [
      "Train accuracy: 0.9857142857142858\n",
      "Train balanced accuracy: 0.9857142857142858\n"
     ]
    }
   ],
   "source": [
    "print(f'Train accuracy: {tree_model.accuracy(train_data, train_labels)}\\nTrain balanced accuracy: {tree_model.balanced_accuracy(train_data, train_labels)}')"
   ]
  },
  {
   "cell_type": "code",
   "execution_count": 82,
   "id": "marine-litigation",
   "metadata": {},
   "outputs": [
    {
     "name": "stdout",
     "output_type": "stream",
     "text": [
      "Test accuracy: 1.0\n",
      "Test balanced accuracy: 1.0\n"
     ]
    }
   ],
   "source": [
    "print(f'Test accuracy: {tree_model.accuracy(test_data, test_labels)}\\nTest balanced accuracy: {tree_model.balanced_accuracy(test_data, test_labels)}')"
   ]
  },
  {
   "cell_type": "code",
   "execution_count": null,
   "id": "nervous-review",
   "metadata": {},
   "outputs": [],
   "source": []
  }
 ],
 "metadata": {
  "kernelspec": {
   "display_name": "Python 3",
   "language": "python",
   "name": "python3"
  },
  "language_info": {
   "codemirror_mode": {
    "name": "ipython",
    "version": 3
   },
   "file_extension": ".py",
   "mimetype": "text/x-python",
   "name": "python",
   "nbconvert_exporter": "python",
   "pygments_lexer": "ipython3",
   "version": "3.8.5"
  }
 },
 "nbformat": 4,
 "nbformat_minor": 5
}
