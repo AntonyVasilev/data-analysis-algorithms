{
 "cells": [
  {
   "cell_type": "code",
   "execution_count": 1,
   "id": "absolute-manitoba",
   "metadata": {},
   "outputs": [],
   "source": [
    "import matplotlib.pyplot as plt\n",
    "import random\n",
    "\n",
    "from matplotlib.colors import ListedColormap\n",
    "from sklearn import datasets\n",
    "\n",
    "import numpy as np"
   ]
  },
  {
   "cell_type": "markdown",
   "id": "potential-arabic",
   "metadata": {},
   "source": [
    "Реализую построение дерева решений в виде отдельных функций"
   ]
  },
  {
   "cell_type": "code",
   "execution_count": 2,
   "id": "technological-cloud",
   "metadata": {},
   "outputs": [],
   "source": [
    "# Реализуем класс узла\n",
    "\n",
    "class Node:\n",
    "    \n",
    "    def __init__(self, index, t, true_branch, false_branch):\n",
    "        self.index = index  # индекс признака, по которому ведется сравнение с порогом в этом узле\n",
    "        self.t = t  # значение порога\n",
    "        self.true_branch = true_branch  # поддерево, удовлетворяющее условию в узле\n",
    "        self.false_branch = false_branch  # поддерево, не удовлетворяющее условию в узле"
   ]
  },
  {
   "cell_type": "code",
   "execution_count": 3,
   "id": "violent-degree",
   "metadata": {},
   "outputs": [],
   "source": [
    "# И класс терминального узла (листа)\n",
    "\n",
    "class Leaf:\n",
    "    \n",
    "    def __init__(self, data, labels):\n",
    "        self.data = data\n",
    "        self.labels = labels\n",
    "        self.prediction = self.predict()\n",
    "        \n",
    "    def predict(self):\n",
    "        # подсчет количества объектов разных классов\n",
    "        classes = {}  # сформируем словарь \"класс: количество объектов\"\n",
    "        for label in self.labels:\n",
    "            if label not in classes:\n",
    "                classes[label] = 0\n",
    "            classes[label] += 1\n",
    "        #  найдем класс, количество объектов которого будет максимальным в этом листе и вернем его    \n",
    "        prediction = max(classes, key=classes.get)\n",
    "        return prediction        "
   ]
  },
  {
   "cell_type": "code",
   "execution_count": 4,
   "id": "saved-playing",
   "metadata": {},
   "outputs": [],
   "source": [
    "# Расчет критерия Джини\n",
    "\n",
    "def gini(labels):\n",
    "    #  подсчет количества объектов разных классов\n",
    "    classes = {}\n",
    "    for label in labels:\n",
    "        if label not in classes:\n",
    "            classes[label] = 0\n",
    "        classes[label] += 1\n",
    "    \n",
    "    #  расчет критерия\n",
    "    impurity = 1\n",
    "    for label in classes:\n",
    "        p = classes[label] / len(labels)\n",
    "        impurity -= p ** 2\n",
    "        \n",
    "    return impurity"
   ]
  },
  {
   "cell_type": "code",
   "execution_count": 5,
   "id": "disciplinary-sound",
   "metadata": {},
   "outputs": [],
   "source": [
    "# Расчет качества\n",
    "\n",
    "def quality(left_labels, right_labels, current_gini):\n",
    "\n",
    "    # доля выбоки, ушедшая в левое поддерево\n",
    "    p = float(left_labels.shape[0]) / (left_labels.shape[0] + right_labels.shape[0])\n",
    "    \n",
    "    return current_gini - p * gini(left_labels) - (1 - p) * gini(right_labels)"
   ]
  },
  {
   "cell_type": "code",
   "execution_count": 14,
   "id": "disciplinary-ensemble",
   "metadata": {},
   "outputs": [],
   "source": [
    "# Генерация подмножества признаков\n",
    "def get_subsample(len_sample):\n",
    "    # будем сохранять не сами признаки, а их индексы\n",
    "    sample_indexes = [i for i in range(len_sample)]\n",
    "    \n",
    "    len_subsample = int(np.sqrt(len_sample))\n",
    "    subsample = []\n",
    "    \n",
    "    random.shuffle(sample_indexes)\n",
    "    for _ in range(len_subsample):\n",
    "        subsample.append(sample_indexes.pop())\n",
    "        \n",
    "    return subsample"
   ]
  },
  {
   "cell_type": "code",
   "execution_count": 6,
   "id": "dated-heating",
   "metadata": {},
   "outputs": [],
   "source": [
    "# Разбиение датасета в узле\n",
    "\n",
    "def split(data, labels, index, t):\n",
    "    \n",
    "    left = np.where(data[:, index] <= t)\n",
    "    right = np.where(data[:, index] > t)\n",
    "        \n",
    "    true_data = data[left]\n",
    "    false_data = data[right]\n",
    "    true_labels = labels[left]\n",
    "    false_labels = labels[right]\n",
    "        \n",
    "    return true_data, false_data, true_labels, false_labels"
   ]
  },
  {
   "cell_type": "code",
   "execution_count": 7,
   "id": "expired-prayer",
   "metadata": {},
   "outputs": [],
   "source": [
    "# Нахождение наилучшего разбиения\n",
    "\n",
    "def find_best_split(data, labels):\n",
    "    \n",
    "    #  обозначим минимальное количество объектов в узле\n",
    "    min_leaf = 1\n",
    "\n",
    "    current_gini = gini(labels)\n",
    "\n",
    "    best_quality = 0\n",
    "    best_t = None\n",
    "    best_index = None\n",
    "    \n",
    "    n_features = data.shape[1]\n",
    "    \n",
    "    # выбор индекса из подвыборки длиной sqrt(n_features)\n",
    "    subsample = get_subsample(n_features)\n",
    "    \n",
    "    for index in subsample:\n",
    "        # будем проверять только уникальные значения признака, исключая повторения\n",
    "        t_values = np.unique([row[index] for row in data])\n",
    "        \n",
    "        for t in t_values:\n",
    "            true_data, false_data, true_labels, false_labels = split(data, labels, index, t)\n",
    "            #  пропускаем разбиения, в которых в узле остается менее 1 объекта\n",
    "            if len(true_data) < min_leaf or len(false_data) < min_leaf:\n",
    "                continue\n",
    "            \n",
    "            current_quality = quality(true_labels, false_labels, current_gini)\n",
    "            \n",
    "            #  выбираем порог, на котором получается максимальный прирост качества\n",
    "            if current_quality > best_quality:\n",
    "                best_quality, best_t, best_index = current_quality, t, index\n",
    "\n",
    "    return best_quality, best_t, best_index"
   ]
  },
  {
   "cell_type": "code",
   "execution_count": 8,
   "id": "assisted-description",
   "metadata": {},
   "outputs": [],
   "source": [
    "# Построение дерева с помощью рекурсивной функции\n",
    "\n",
    "def build_tree(data, labels):\n",
    "\n",
    "    quality, t, index = find_best_split(data, labels)\n",
    "\n",
    "    #  Базовый случай - прекращаем рекурсию, когда нет прироста в качества\n",
    "    if quality == 0:\n",
    "        return Leaf(data, labels)\n",
    "\n",
    "    true_data, false_data, true_labels, false_labels = split(data, labels, index, t)\n",
    "\n",
    "    # Рекурсивно строим два поддерева\n",
    "    true_branch = build_tree(true_data, true_labels)\n",
    "    false_branch = build_tree(false_data, false_labels)\n",
    "\n",
    "    # Возвращаем класс узла со всеми поддеревьями, то есть целого дерева\n",
    "    return Node(index, t, true_branch, false_branch)"
   ]
  },
  {
   "cell_type": "markdown",
   "id": "united-constant",
   "metadata": {},
   "source": [
    "Построение случайного леса"
   ]
  },
  {
   "cell_type": "code",
   "execution_count": 94,
   "id": "brave-combine",
   "metadata": {},
   "outputs": [],
   "source": [
    "def get_OOB_data(data, labels, indexes):\n",
    "    OOB_list = []\n",
    "    for index in indexes:\n",
    "        OOB_list.append((data[index], labels[index]))\n",
    "    return OOB_list"
   ]
  },
  {
   "cell_type": "code",
   "execution_count": 106,
   "id": "thorough-coordinate",
   "metadata": {},
   "outputs": [],
   "source": [
    "# Генерация bootstrap выборок\n",
    "random.seed(42)\n",
    " \n",
    "def get_bootstrap_OOB(data, labels, N):\n",
    "    n_samples = data.shape[0]\n",
    "    n_samples_set = set(range(n_samples))\n",
    "    bootstrap = []\n",
    "    OOB = []\n",
    "    \n",
    "    for i in range(N):\n",
    "        b_data = np.zeros(data.shape)\n",
    "        b_labels = np.zeros(labels.shape)\n",
    "        indexes_set = set()\n",
    "        for j in range(n_samples):\n",
    "            sample_index = random.randint(0, n_samples-1)\n",
    "            b_data[j] = data[sample_index]\n",
    "            b_labels[j] = labels[sample_index]\n",
    "            indexes_set.add(sample_index)\n",
    "        bootstrap.append((b_data, b_labels))\n",
    "        \n",
    "        OOB_data = get_OOB_data(data, labels, list(OOB_indexes))\n",
    "        OOB.append(OOB_data)\n",
    "        \n",
    "    return bootstrap, OOB"
   ]
  },
  {
   "cell_type": "code",
   "execution_count": 108,
   "id": "cooked-tract",
   "metadata": {},
   "outputs": [],
   "source": [
    "bootstrap, OOB = get_bootstrap_OOB(train_data, train_labels, 2)"
   ]
  },
  {
   "cell_type": "code",
   "execution_count": 110,
   "id": "premium-aside",
   "metadata": {},
   "outputs": [
    {
     "data": {
      "text/plain": [
       "[(array([-0.7969336 ,  2.21175653, -0.37370071,  3.06914307,  2.70386036]), 1),\n",
       " (array([-0.23730416,  2.13678591, -2.0104088 ,  1.74026253, -0.13291039]), 1),\n",
       " (array([-1.34700405,  0.47702909,  0.89087204, -0.6271016 ,  1.9384871 ]), 1),\n",
       " (array([ 1.6655527 ,  0.22623646, -1.80177592,  1.27702296, -4.34865212]), 0),\n",
       " (array([-1.56429462,  1.16272505, -1.84180097,  1.34384507,  0.24316759]), 0),\n",
       " (array([-0.49837637,  1.93907424, -1.25898731,  3.54452744,  2.7077664 ]), 1),\n",
       " (array([ 0.75044175,  1.13558278, -3.18196691,  1.07053088, -4.94854051]), 0),\n",
       " (array([ 1.2838785 , -1.09906443, -0.79999416,  1.35527829, -1.11084713]), 0),\n",
       " (array([ 1.34368696, -1.61840868,  0.77001479,  1.15998196,  1.23043411]), 1),\n",
       " (array([-2.40546915, -0.55733314, -3.41521264,  1.66092514,  0.52364676]), 1),\n",
       " (array([-0.77680371,  1.40337057, -2.37711675,  1.0267626 , -1.84990246]), 0),\n",
       " (array([ 0.72524996,  2.08048448, -2.15328787,  3.87879541,  1.20979539]), 1),\n",
       " (array([-2.03796377,  0.14454288, -1.73386568,  1.21266477,  0.88042669]), 1),\n",
       " (array([-2.58481379,  1.27814085, -0.10655436,  0.10000223,  1.16689017]), 1),\n",
       " (array([-0.61210559,  1.62987371, -1.40934443,  3.13318771,  0.98120586]), 0),\n",
       " (array([-1.79304116,  1.62781547, -0.15011981,  0.78327021,  1.72866573]), 1),\n",
       " (array([ 1.48206511, -0.56353464, -1.08100551,  1.54462305, -1.76476452]), 0),\n",
       " (array([ 0.18577601,  2.03419531, -0.15729791,  4.39128656,  3.78252009]), 1),\n",
       " (array([ 0.40461048,  1.19077933, -1.63748293,  2.90082788, -0.45991437]), 0),\n",
       " (array([-2.47558733,  0.57491437, -0.53955932,  0.08087536,  1.31475669]), 1),\n",
       " (array([-0.0087499 ,  0.99417476, -2.17800195, -0.08127039, -3.99131119]), 0),\n",
       " (array([-2.09311333, -2.26732523, -2.08748649, -0.75070621,  2.51038816]), 1),\n",
       " (array([-0.01825394,  2.49726049, -0.59996444,  3.82304906,  2.22576812]), 1),\n",
       " (array([-2.92772691, -0.82293201, -2.97045338,  0.63920655,  0.72918427]), 1),\n",
       " (array([-2.03747581, -0.29938627, -1.87371992, -0.4155561 ,  0.19726561]), 1),\n",
       " (array([-0.93605186,  0.8501102 , -1.76337776,  2.3213105 ,  1.34085693]), 1),\n",
       " (array([ 9.00619213e-04,  1.11926737e+00, -1.80785351e-01, -3.46111170e-01,\n",
       "          1.04461229e+00]),\n",
       "  1),\n",
       " (array([ 0.37354347, -3.24330694, -0.41666702, -0.872778  ,  2.0259814 ]), 0),\n",
       " (array([ 0.7890095 ,  1.43638031, -0.43625112,  3.34529163,  3.02969365]), 1),\n",
       " (array([-2.02354273,  0.40856531, -3.73739637,  0.46862486, -1.20340134]), 1),\n",
       " (array([ 1.17640884, -0.13830436, -0.4504363 ,  1.72404731, -1.42272785]), 0),\n",
       " (array([-0.18382423,  1.1031738 , -2.76010521,  1.43149842, -3.55694638]), 0),\n",
       " (array([ 2.45920464, -0.8256279 , -1.33193011,  0.75955677, -5.12820942]), 0),\n",
       " (array([ 4.06215878e-01,  3.52487656e-03, -2.70088343e+00, -4.31090977e-02,\n",
       "         -4.34210572e+00]),\n",
       "  0),\n",
       " (array([ 1.57079638, -1.28496593,  0.15924176,  2.6879877 ,  1.0613049 ]), 0),\n",
       " (array([-1.38114614, -0.02841651, -3.51803188,  0.03329124, -1.58595467]), 1),\n",
       " (array([ 0.22191885,  0.44467851, -2.72936539,  1.02561537, -2.91629024]), 0),\n",
       " (array([ 0.7596114 ,  0.83336067, -1.83676559,  1.38562326, -2.87010986]), 0),\n",
       " (array([-1.91604581, -0.64398478, -1.02735775, -3.56250861, -1.83368606]), 1),\n",
       " (array([-0.45118102,  2.01503617, -1.26352175,  1.63396932,  0.66106254]), 1),\n",
       " (array([-1.0458208 ,  0.01256223, -0.92678502, -0.95698423,  0.1536709 ]), 1),\n",
       " (array([1.86677715, 3.05031542, 0.77196033, 3.22502118, 2.6236558 ]), 1),\n",
       " (array([ 1.16164558, -2.99071373, -0.60547647,  0.16297532,  0.80669126]), 0),\n",
       " (array([ 1.71864279, -2.01341738, -0.65940686, -0.1302831 , -1.87058843]), 0),\n",
       " (array([-0.69276654,  2.45791956,  0.03770796,  2.76629933,  2.52212112]), 1),\n",
       " (array([ 2.09815329, -2.10353143, -0.36177232, -0.28531761, -1.71592454]), 0),\n",
       " (array([-0.53303777,  2.77785216,  1.36287296,  1.75813816,  3.45652447]), 1),\n",
       " (array([-0.81474889, -0.53643144, -0.6551031 , -3.8725607 , -2.36470927]), 1),\n",
       " (array([-1.2886212 ,  0.92420866, -0.31635285,  0.23385374,  1.03119142]), 1),\n",
       " (array([-0.73030336,  1.7305319 ,  1.29121472, -0.56604588,  1.619413  ]), 1),\n",
       " (array([ 0.93476598,  0.84866222, -1.96395391,  3.46451395,  1.75421912]), 1),\n",
       " (array([ 0.4056583 , -0.60916524, -2.14217544,  1.88189661, -1.38913623]), 0),\n",
       " (array([ 2.10585861, -4.1558948 ,  0.65159064, -0.4579037 ,  0.05539743]), 0),\n",
       " (array([ 1.11764133,  2.40317821, -2.36910241,  3.01608184, -3.5887806 ]), 0),\n",
       " (array([ 2.78057621,  0.25053728, -1.28443036,  2.78511405, -4.67970214]), 0),\n",
       " (array([-4.24838137,  0.1546052 , -0.49825173, -1.9005813 ,  0.29123476]), 1),\n",
       " (array([-2.80779866,  0.13089772, -1.08309793, -0.24939212,  1.38332178]), 1),\n",
       " (array([ 1.56588638, -4.03252145, -0.18891173, -1.56806436, -0.55749813]), 0),\n",
       " (array([-0.94225073,  4.20826699, -1.52465652,  3.34287299, -1.04296046]), 0),\n",
       " (array([ 4.10758315, -3.36574263,  1.18598546,  0.98841906, -1.03466579]), 0),\n",
       " (array([ 2.58408023, -1.89786434,  0.85872327,  2.55223867,  0.09572447]), 0),\n",
       " (array([-0.03486921, -1.31028142, -1.74703144,  0.41759917, -0.45084747]), 0),\n",
       " (array([-0.6744397 ,  0.34813607, -2.79761415,  0.88916209, -0.62038857]), 1),\n",
       " (array([ 0.80379526, -0.89510858, -0.41669366,  1.316732  ,  0.36935027]), 0),\n",
       " (array([-2.19817467, -0.62223057, -4.44408359,  0.60517878, -1.30719913]), 1),\n",
       " (array([-2.50233273,  0.74325451,  0.37385675, -1.25486882,  0.58116511]), 1),\n",
       " (array([-1.23338884,  1.55867868, -0.46115131,  2.40902501,  2.26553627]), 1),\n",
       " (array([-0.36674611,  0.83611332, -0.9973006 ,  1.35247735,  1.15173063]), 1),\n",
       " (array([-1.51441409,  3.04158073,  0.89196457,  4.10193715,  4.16362496]), 1),\n",
       " (array([-0.48499622,  1.53606724, -0.7354902 ,  1.91510071,  1.52292414]), 1),\n",
       " (array([ 0.85396203,  0.65775691, -2.3516304 ,  1.41286601, -0.45638461]), 1),\n",
       " (array([ 2.00499928,  0.61797653, -1.3265889 ,  3.1781109 , -2.73781828]), 0),\n",
       " (array([ 2.31705254,  0.29412055, -0.721362  ,  3.44535355, -2.18058393]), 0),\n",
       " (array([0.40344055, 2.22107977, 0.3611038 , 0.89935576, 0.95218281]), 1),\n",
       " (array([-3.04388995, -0.14852698, -1.36006584,  0.05541149,  1.14982304]), 1),\n",
       " (array([-0.89242093, -1.4940092 , -1.34051508,  0.99733625,  2.65976514]), 0),\n",
       " (array([ 0.8156118 , -2.54751327,  0.07358716,  1.25902931,  2.06719149]), 0),\n",
       " (array([ 3.96040606, -2.66709029,  0.95454439,  1.20843676, -1.83364634]), 0),\n",
       " (array([-1.96246378,  1.29857892, -2.99049247,  0.55286772,  0.00521622]), 0),\n",
       " (array([ 1.69409494,  1.66076102, -2.33118506,  2.05509526, -0.65131452]), 1),\n",
       " (array([ 3.20363763, -0.87744148,  0.21751106,  2.18598655, -1.65938535]), 0),\n",
       " (array([-2.6287683 , -0.84224619,  0.82079354, -2.49896597,  1.11057795]), 1),\n",
       " (array([-2.9324609 , -0.62735089, -3.50025876, -1.19055295, -1.77236117]), 1),\n",
       " (array([-0.73803608,  0.47925329, -1.639589  ,  1.77579354,  0.42247475]), 0),\n",
       " (array([-0.57071991,  1.45206243, -0.15485511,  1.33758   ,  1.60690246]), 1),\n",
       " (array([ 1.06126778,  1.88756649, -1.6238538 ,  3.31273806, -2.72387924]), 0),\n",
       " (array([ 0.50702152,  2.08703751, -1.93542738,  2.42933873, -3.34823148]), 0),\n",
       " (array([-0.68628138, -0.17606328, -2.39921423,  1.52471487,  0.88653631]), 1),\n",
       " (array([-3.51579073, -0.3033829 , -1.67175277, -0.39495892,  0.79577325]), 1),\n",
       " (array([-0.22343002,  1.68626987, -0.85983037,  0.99747967,  0.37374696]), 1),\n",
       " (array([ 1.53011418, -1.62839528, -0.45081611,  2.24354546, -0.31493237]), 0),\n",
       " (array([ 0.65095741,  1.04301603, -1.87339435,  0.63687794, -0.23039856]), 1),\n",
       " (array([ 2.50397673, -0.80647976, -0.92719121,  0.56439226, -3.78395881]), 0),\n",
       " (array([ 0.14035864, -0.64647948, -2.10448121,  1.12272806, -0.9029959 ]), 0),\n",
       " (array([ 1.3852912 , -2.22789942,  0.04489073,  1.58359143,  2.01854707]), 0),\n",
       " (array([ 1.47738823,  0.43188855, -1.2572105 ,  1.27625216, -2.91237107]), 0),\n",
       " (array([ 2.30065807, -1.97893448, -0.69885792,  0.25855134, -2.33084054]), 0),\n",
       " (array([ 1.57333606,  1.23034393, -0.6870894 ,  2.38793066, -1.91697961]), 0),\n",
       " (array([-0.48716048,  0.49130263, -3.34833577,  1.08609154, -1.18439694]), 1),\n",
       " (array([-0.08540211,  1.7799666 , -1.55483859,  2.32980565,  0.715361  ]), 1),\n",
       " (array([0.49031587, 2.57057013, 1.26337768, 2.10550169, 3.00847781]), 1),\n",
       " (array([-1.97816842,  1.213882  ,  1.20533264, -1.10377764,  1.25578611]), 1),\n",
       " (array([-0.97923802,  1.12599614,  0.95623848,  0.37472594,  2.04016929]), 1),\n",
       " (array([ 1.56618412,  0.33024545, -1.89106252,  1.10711807, -3.84823431]), 0),\n",
       " (array([-0.82551172,  0.58765829, -1.99159253,  0.57676196,  0.21744348]), 1),\n",
       " (array([-2.18601306, -0.79733754, -3.0158235 , -1.03042535, -1.51902381]), 0),\n",
       " (array([-0.7725796 ,  1.85622932, -2.05767122,  1.84039012, -0.55156301]), 0),\n",
       " (array([ 0.29570136, -1.62608998, -1.48348241, -0.07992188, -0.04587798]), 0),\n",
       " (array([-0.50220822,  1.18882339, -0.03964611, -0.37224409,  1.00082028]), 1),\n",
       " (array([-0.93017094,  0.54797569, -1.5560969 ,  1.42689612,  0.53099061]), 1),\n",
       " (array([ 0.18833337,  2.29290829, -2.72115121,  1.26572312, -4.32218403]), 0),\n",
       " (array([ 1.25150287, -0.53858059, -1.52014796,  2.16995472, -1.63483833]), 0),\n",
       " (array([ 1.35178709, -4.21152182,  0.47250689,  0.09342292,  1.09239007]), 0),\n",
       " (array([-0.92508704,  0.18763756, -2.34724124,  1.60504205, -0.13546872]), 0),\n",
       " (array([-0.78848871,  0.89505512, -1.1707652 ,  1.16682533,  1.08512797]), 1),\n",
       " (array([-1.71897703,  0.20238283, -3.36278998,  1.18354989, -0.46924773]), 1),\n",
       " (array([ 1.39591508, -2.77138594,  0.20983495,  0.3638111 ,  0.95464729]), 0),\n",
       " (array([-0.79425021,  1.35414401, -0.6075446 ,  1.16571569,  1.04588249]), 1),\n",
       " (array([0.14563869, 1.30322447, 0.11717968, 2.18297543, 3.14759427]), 1),\n",
       " (array([-0.77273063,  1.50543838,  0.20198774,  1.34390753,  1.97144368]), 1),\n",
       " (array([-1.51253171,  1.62026715, -2.16798132,  0.93045196, -0.15257188]), 1),\n",
       " (array([1.4284488 , 1.14476436, 0.08391339, 1.29386327, 1.1915774 ]), 1),\n",
       " (array([-0.10296078,  2.71673763, -0.30885155,  4.386424  ,  3.12286854]), 1),\n",
       " (array([-1.21187325,  0.88921994, -0.61548335,  0.27148798,  1.10447123]), 1),\n",
       " (array([-0.54369849,  0.4565639 , -2.00035871, -0.14338114, -0.68874395]), 1),\n",
       " (array([ 4.01418168, -3.4011817 ,  0.78249286,  1.39396678, -1.18573517]), 0),\n",
       " (array([ 1.0260998 , -0.75186688, -1.514236  ,  0.99734558, -1.81391959]), 0),\n",
       " (array([-0.2718508 ,  1.54903283, -2.94627253,  1.20976925, -3.32325558]), 0),\n",
       " (array([-0.13565643, -0.09252078, -3.32118383, -0.67123072, -4.84933371]), 0),\n",
       " (array([-1.62315119,  0.7482718 , -0.93457519,  0.78406136,  1.44712611]), 1),\n",
       " (array([ 2.76532198, -4.3557232 ,  0.98123017, -0.78995931,  1.05717305]), 0),\n",
       " (array([ 0.90376561, -4.71052633, -1.06397415, -0.71808455,  0.47542536]), 0),\n",
       " (array([-0.55943021, -0.94644147, -2.35841023, -0.34139583, -1.30077405]), 0)]"
      ]
     },
     "execution_count": 110,
     "metadata": {},
     "output_type": "execute_result"
    }
   ],
   "source": [
    "OOB[0]"
   ]
  },
  {
   "cell_type": "code",
   "execution_count": null,
   "id": "weighted-jones",
   "metadata": {},
   "outputs": [],
   "source": []
  },
  {
   "cell_type": "code",
   "execution_count": 73,
   "id": "governmental-texas",
   "metadata": {},
   "outputs": [],
   "source": [
    "# Генерация bootstrap выборок\n",
    "random.seed(42)\n",
    " \n",
    "def get_bootstrap(data, labels, N):\n",
    "    n_samples = data.shape[0]\n",
    "    bootstrap = []\n",
    "    \n",
    "    for i in range(N):\n",
    "        b_data = np.zeros(data.shape)\n",
    "        b_labels = np.zeros(labels.shape)\n",
    "        for j in range(n_samples):\n",
    "            sample_index = random.randint(0, n_samples-1)\n",
    "            b_data[j] = data[sample_index]\n",
    "            b_labels[j] = labels[sample_index]            \n",
    "        bootstrap.append((b_data, b_labels))\n",
    "        \n",
    "    return bootstrap"
   ]
  },
  {
   "cell_type": "code",
   "execution_count": null,
   "id": "conceptual-murder",
   "metadata": {},
   "outputs": [],
   "source": []
  },
  {
   "cell_type": "code",
   "execution_count": null,
   "id": "received-spokesman",
   "metadata": {},
   "outputs": [],
   "source": []
  },
  {
   "cell_type": "code",
   "execution_count": 9,
   "id": "golden-conclusion",
   "metadata": {},
   "outputs": [],
   "source": [
    "def random_forest(data, labels, n_trees):\n",
    "    forest = []\n",
    "    bootstrap = get_bootstrap(data, labels, n_trees)\n",
    "    \n",
    "    for b_data, b_labels in bootstrap:\n",
    "        forest.append(build_tree(b_data, b_labels))\n",
    "        \n",
    "    return forest"
   ]
  },
  {
   "cell_type": "code",
   "execution_count": 10,
   "id": "experienced-release",
   "metadata": {},
   "outputs": [],
   "source": [
    "# Функция классификации отдельного объекта\n",
    "\n",
    "def classify_object(obj, node):\n",
    "\n",
    "    #  Останавливаем рекурсию, если достигли листа\n",
    "    if isinstance(node, Leaf):\n",
    "        answer = node.prediction\n",
    "        return answer\n",
    "\n",
    "    if obj[node.index] <= node.t:\n",
    "        return classify_object(obj, node.true_branch)\n",
    "    else:\n",
    "        return classify_object(obj, node.false_branch)"
   ]
  },
  {
   "cell_type": "code",
   "execution_count": 11,
   "id": "communist-reception",
   "metadata": {},
   "outputs": [],
   "source": [
    "# функция формирования предсказания по выборке на одном дереве\n",
    "\n",
    "def predict(data, tree):\n",
    "    \n",
    "    classes = []\n",
    "    for obj in data:\n",
    "        prediction = classify_object(obj, tree)\n",
    "        classes.append(prediction)\n",
    "    return classes"
   ]
  },
  {
   "cell_type": "code",
   "execution_count": 12,
   "id": "sustainable-extra",
   "metadata": {},
   "outputs": [],
   "source": [
    "# предсказание голосованием деревьев\n",
    "\n",
    "def tree_vote(forest, data):\n",
    "\n",
    "    # добавим предсказания всех деревьев в список\n",
    "    predictions = []\n",
    "    for tree in forest:\n",
    "        predictions.append(predict(data, tree))\n",
    "    \n",
    "    # сформируем список с предсказаниями для каждого объекта\n",
    "    predictions_per_object = list(zip(*predictions))\n",
    "    \n",
    "    # выберем в качестве итогового предсказания для каждого объекта то,\n",
    "    # за которое проголосовало большинство деревьев\n",
    "    voted_predictions = []\n",
    "    for obj in predictions_per_object:\n",
    "        voted_predictions.append(max(set(obj), key=obj.count))\n",
    "        \n",
    "    return voted_predictions"
   ]
  },
  {
   "cell_type": "markdown",
   "id": "valued-syria",
   "metadata": {},
   "source": [
    "Генерирую данные и обучаю модель"
   ]
  },
  {
   "cell_type": "code",
   "execution_count": 15,
   "id": "spoken-fourth",
   "metadata": {},
   "outputs": [],
   "source": [
    "# сгенерируем данные, представляющие собой 500 объектов с 5-ю признаками\n",
    "classification_data, classification_labels = datasets.make_classification(n_samples=500,\n",
    "                                                      n_features = 5, n_informative = 5, \n",
    "                                                      n_classes = 2, n_redundant=0, \n",
    "                                                      n_clusters_per_class=1, random_state=23)"
   ]
  },
  {
   "cell_type": "code",
   "execution_count": 16,
   "id": "vanilla-anniversary",
   "metadata": {},
   "outputs": [
    {
     "data": {
      "text/plain": [
       "<matplotlib.collections.PathCollection at 0x24b2e334ac0>"
      ]
     },
     "execution_count": 16,
     "metadata": {},
     "output_type": "execute_result"
    },
    {
     "data": {
      "image/png": "[encoded data removed]",
      "text/plain": [
       "<Figure size 576x576 with 1 Axes>"
      ]
     },
     "metadata": {
      "needs_background": "light"
     },
     "output_type": "display_data"
    }
   ],
   "source": [
    "# визуализируем сгенерированные данные\n",
    "\n",
    "colors = ListedColormap(['red', 'blue'])\n",
    "light_colors = ListedColormap(['lightcoral', 'lightblue'])\n",
    "\n",
    "plt.figure(figsize=(8,8))\n",
    "plt.scatter(list(map(lambda x: x[0], classification_data)), list(map(lambda x: x[1], classification_data)), \n",
    "              c=classification_labels, cmap=colors)"
   ]
  },
  {
   "cell_type": "code",
   "execution_count": 17,
   "id": "organic-melbourne",
   "metadata": {},
   "outputs": [],
   "source": [
    "# Разобьем выборку на обучающую и тестовую\n",
    "\n",
    "from sklearn import model_selection\n",
    "\n",
    "train_data, test_data, train_labels, test_labels = model_selection.train_test_split(classification_data, \n",
    "                                                                                     classification_labels, \n",
    "                                                                                     test_size = 0.3,\n",
    "                                                                                     random_state = 1)"
   ]
  },
  {
   "cell_type": "code",
   "execution_count": 19,
   "id": "coupled-lawsuit",
   "metadata": {},
   "outputs": [],
   "source": [
    "# Введем функцию подсчета точности как доли правильных ответов\n",
    "\n",
    "def accuracy_metric(actual, predicted):\n",
    "  correct = 0\n",
    "  for i in range(len(actual)):\n",
    "      if actual[i] == predicted[i]:\n",
    "          correct += 1\n",
    "  return correct / float(len(actual)) * 100.0"
   ]
  },
  {
   "cell_type": "markdown",
   "id": "invalid-freeze",
   "metadata": {},
   "source": [
    "Лес из 1 дерева"
   ]
  },
  {
   "cell_type": "code",
   "execution_count": 20,
   "id": "caring-opportunity",
   "metadata": {},
   "outputs": [],
   "source": [
    "n_trees = 1\n",
    "my_forest_1 = random_forest(train_data, train_labels, n_trees)"
   ]
  },
  {
   "cell_type": "code",
   "execution_count": 21,
   "id": "polished-serum",
   "metadata": {},
   "outputs": [],
   "source": [
    "# Получим ответы для обучающей выборки \n",
    "train_answers = tree_vote(my_forest_1, train_data)"
   ]
  },
  {
   "cell_type": "code",
   "execution_count": 22,
   "id": "powerful-complex",
   "metadata": {},
   "outputs": [],
   "source": [
    "# И получим ответы для тестовой выборки\n",
    "test_answers = tree_vote(my_forest_1, test_data)"
   ]
  },
  {
   "cell_type": "code",
   "execution_count": 23,
   "id": "empirical-association",
   "metadata": {},
   "outputs": [
    {
     "name": "stdout",
     "output_type": "stream",
     "text": [
      "Точность случайного леса из 1 деревьев на обучающей выборке: 93.143\n"
     ]
    }
   ],
   "source": [
    "# Точность на обучающей выборке\n",
    "train_accuracy = accuracy_metric(train_labels, train_answers)\n",
    "print(f'Точность случайного леса из {n_trees} деревьев на обучающей выборке: {train_accuracy:.3f}')"
   ]
  },
  {
   "cell_type": "code",
   "execution_count": 24,
   "id": "pleasant-gabriel",
   "metadata": {},
   "outputs": [
    {
     "name": "stdout",
     "output_type": "stream",
     "text": [
      "Точность случайного леса из 1 деревьев на тестовой выборке: 93.333\n"
     ]
    }
   ],
   "source": [
    "# Точность на тестовой выборке\n",
    "test_accuracy = accuracy_metric(test_labels, test_answers)\n",
    "print(f'Точность случайного леса из {n_trees} деревьев на тестовой выборке: {test_accuracy:.3f}')"
   ]
  },
  {
   "cell_type": "markdown",
   "id": "limited-weather",
   "metadata": {},
   "source": [
    "Лес из 3 деревьев"
   ]
  },
  {
   "cell_type": "code",
   "execution_count": 25,
   "id": "whole-lincoln",
   "metadata": {},
   "outputs": [],
   "source": [
    "n_trees = 3\n",
    "my_forest_3 = random_forest(train_data, train_labels, n_trees)"
   ]
  },
  {
   "cell_type": "code",
   "execution_count": 26,
   "id": "following-storage",
   "metadata": {},
   "outputs": [],
   "source": [
    "# Получим ответы для обучающей выборки \n",
    "train_answers = tree_vote(my_forest_3, train_data)"
   ]
  },
  {
   "cell_type": "code",
   "execution_count": 27,
   "id": "acceptable-steam",
   "metadata": {},
   "outputs": [],
   "source": [
    "# И получим ответы для тестовой выборки\n",
    "test_answers = tree_vote(my_forest_3, test_data)"
   ]
  },
  {
   "cell_type": "code",
   "execution_count": 28,
   "id": "going-chapter",
   "metadata": {},
   "outputs": [
    {
     "name": "stdout",
     "output_type": "stream",
     "text": [
      "Точность случайного леса из 3 деревьев на обучающей выборке: 97.429\n"
     ]
    }
   ],
   "source": [
    "# Точность на обучающей выборке\n",
    "train_accuracy = accuracy_metric(train_labels, train_answers)\n",
    "print(f'Точность случайного леса из {n_trees} деревьев на обучающей выборке: {train_accuracy:.3f}')"
   ]
  },
  {
   "cell_type": "code",
   "execution_count": 29,
   "id": "conventional-assets",
   "metadata": {},
   "outputs": [
    {
     "name": "stdout",
     "output_type": "stream",
     "text": [
      "Точность случайного леса из 3 деревьев на тестовой выборке: 96.000\n"
     ]
    }
   ],
   "source": [
    "# Точность на тестовой выборке\n",
    "test_accuracy = accuracy_metric(test_labels, test_answers)\n",
    "print(f'Точность случайного леса из {n_trees} деревьев на тестовой выборке: {test_accuracy:.3f}')"
   ]
  },
  {
   "cell_type": "markdown",
   "id": "hazardous-recall",
   "metadata": {},
   "source": [
    "Лес из 10 деревьев"
   ]
  },
  {
   "cell_type": "code",
   "execution_count": 30,
   "id": "adolescent-future",
   "metadata": {},
   "outputs": [],
   "source": [
    "n_trees = 10\n",
    "my_forest_10 = random_forest(train_data, train_labels, n_trees)"
   ]
  },
  {
   "cell_type": "code",
   "execution_count": 31,
   "id": "optical-homeless",
   "metadata": {},
   "outputs": [],
   "source": [
    "# Получим ответы для обучающей выборки \n",
    "train_answers = tree_vote(my_forest_10, train_data)"
   ]
  },
  {
   "cell_type": "code",
   "execution_count": 32,
   "id": "separate-rolling",
   "metadata": {},
   "outputs": [],
   "source": [
    "# И получим ответы для тестовой выборки\n",
    "test_answers = tree_vote(my_forest_10, test_data)"
   ]
  },
  {
   "cell_type": "code",
   "execution_count": 33,
   "id": "norman-cleaning",
   "metadata": {},
   "outputs": [
    {
     "name": "stdout",
     "output_type": "stream",
     "text": [
      "Точность случайного леса из 10 деревьев на обучающей выборке: 99.143\n"
     ]
    }
   ],
   "source": [
    "# Точность на обучающей выборке\n",
    "train_accuracy = accuracy_metric(train_labels, train_answers)\n",
    "print(f'Точность случайного леса из {n_trees} деревьев на обучающей выборке: {train_accuracy:.3f}')"
   ]
  },
  {
   "cell_type": "code",
   "execution_count": 34,
   "id": "contemporary-absence",
   "metadata": {},
   "outputs": [
    {
     "name": "stdout",
     "output_type": "stream",
     "text": [
      "Точность случайного леса из 10 деревьев на тестовой выборке: 96.667\n"
     ]
    }
   ],
   "source": [
    "# Точность на тестовой выборке\n",
    "test_accuracy = accuracy_metric(test_labels, test_answers)\n",
    "print(f'Точность случайного леса из {n_trees} деревьев на тестовой выборке: {test_accuracy:.3f}')"
   ]
  },
  {
   "cell_type": "markdown",
   "id": "other-platinum",
   "metadata": {},
   "source": [
    "Лес из 50 деревьев"
   ]
  },
  {
   "cell_type": "code",
   "execution_count": 35,
   "id": "solid-england",
   "metadata": {},
   "outputs": [],
   "source": [
    "n_trees = 50\n",
    "my_forest_50 = random_forest(train_data, train_labels, n_trees)"
   ]
  },
  {
   "cell_type": "code",
   "execution_count": 36,
   "id": "nutritional-reviewer",
   "metadata": {},
   "outputs": [],
   "source": [
    "# Получим ответы для обучающей выборки \n",
    "train_answers = tree_vote(my_forest_50, train_data)"
   ]
  },
  {
   "cell_type": "code",
   "execution_count": 37,
   "id": "experienced-hudson",
   "metadata": {},
   "outputs": [],
   "source": [
    "# И получим ответы для тестовой выборки\n",
    "test_answers = tree_vote(my_forest_50, test_data)"
   ]
  },
  {
   "cell_type": "code",
   "execution_count": 38,
   "id": "finite-kuwait",
   "metadata": {},
   "outputs": [
    {
     "name": "stdout",
     "output_type": "stream",
     "text": [
      "Точность случайного леса из 50 деревьев на обучающей выборке: 100.000\n"
     ]
    }
   ],
   "source": [
    "# Точность на обучающей выборке\n",
    "train_accuracy = accuracy_metric(train_labels, train_answers)\n",
    "print(f'Точность случайного леса из {n_trees} деревьев на обучающей выборке: {train_accuracy:.3f}')"
   ]
  },
  {
   "cell_type": "code",
   "execution_count": 39,
   "id": "flying-providence",
   "metadata": {},
   "outputs": [
    {
     "name": "stdout",
     "output_type": "stream",
     "text": [
      "Точность случайного леса из 50 деревьев на тестовой выборке: 97.333\n"
     ]
    }
   ],
   "source": [
    "# Точность на тестовой выборке\n",
    "test_accuracy = accuracy_metric(test_labels, test_answers)\n",
    "print(f'Точность случайного леса из {n_trees} деревьев на тестовой выборке: {test_accuracy:.3f}')"
   ]
  },
  {
   "cell_type": "code",
   "execution_count": null,
   "id": "rural-warrant",
   "metadata": {},
   "outputs": [],
   "source": []
  }
 ],
 "metadata": {
  "kernelspec": {
   "display_name": "Python 3",
   "language": "python",
   "name": "python3"
  },
  "language_info": {
   "codemirror_mode": {
    "name": "ipython",
    "version": 3
   },
   "file_extension": ".py",
   "mimetype": "text/x-python",
   "name": "python",
   "nbconvert_exporter": "python",
   "pygments_lexer": "ipython3",
   "version": "3.8.5"
  }
 },
 "nbformat": 4,
 "nbformat_minor": 5
}
