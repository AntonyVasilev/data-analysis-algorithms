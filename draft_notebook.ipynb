{
 "cells": [
  {
   "cell_type": "markdown",
   "metadata": {},
   "source": [
    "### Tutors - expected math exam results\n",
    "__Predict average math exam results for students of the tutors__  \n",
    "https://www.kaggle.com/c/tutors-expected-math-exam-results"
   ]
  },
  {
   "cell_type": "code",
   "execution_count": 3,
   "metadata": {},
   "outputs": [],
   "source": [
    "import numpy as np\n",
    "import pandas as pd\n",
    "from sklearn.model_selection import train_test_split\n",
    "import matplotlib.pyplot as plt\n",
    "import seaborn as sns\n",
    "%matplotlib inline"
   ]
  },
  {
   "cell_type": "code",
   "execution_count": null,
   "metadata": {},
   "outputs": [],
   "source": [
    "TRAIN_DATASET_PATH = './datasets/train.csv'\n",
    "TEST_DADASET_PATH = './datasets/test.csv'"
   ]
  },
  {
   "cell_type": "code",
   "execution_count": null,
   "metadata": {},
   "outputs": [],
   "source": [
    "train_df = pd.read_csv(TRAIN_DATASET_PATH)"
   ]
  },
  {
   "cell_type": "code",
   "execution_count": null,
   "metadata": {},
   "outputs": [],
   "source": [
    "train_df.head()"
   ]
  },
  {
   "cell_type": "code",
   "execution_count": null,
   "metadata": {},
   "outputs": [],
   "source": [
    "train_df.tail()"
   ]
  },
  {
   "cell_type": "code",
   "execution_count": null,
   "metadata": {},
   "outputs": [],
   "source": [
    "train_df.info()"
   ]
  },
  {
   "cell_type": "code",
   "execution_count": null,
   "metadata": {},
   "outputs": [],
   "source": [
    "train_df.describe().T"
   ]
  },
  {
   "cell_type": "code",
   "execution_count": null,
   "metadata": {},
   "outputs": [],
   "source": [
    "# Compute the correlation matrix\n",
    "df_corr = train_df.corr()\n",
    "\n",
    "sns.set_theme(style=\"white\")\n",
    "\n",
    "# Generate a mask for the upper triangle\n",
    "mask = np.triu(np.ones_like(df_corr, dtype=bool))\n",
    "\n",
    "# Set up the matplotlib figure\n",
    "f, ax = plt.subplots(figsize=(11, 9))\n",
    "\n",
    "# Generate a custom diverging colormap\n",
    "cmap = sns.diverging_palette(150, 275, as_cmap=True)\n",
    "\n",
    "# Draw the heatmap with the mask and correct aspect ratio\n",
    "sns.heatmap(df_corr, mask=mask, cmap=cmap, vmax=.3, center=0,\n",
    "            square=True, linewidths=.5, cbar_kws={\"shrink\": .5})"
   ]
  },
  {
   "cell_type": "code",
   "execution_count": null,
   "metadata": {},
   "outputs": [],
   "source": [
    "df_corr['mean_exam_points']"
   ]
  },
  {
   "cell_type": "code",
   "execution_count": null,
   "metadata": {},
   "outputs": [],
   "source": [
    "train_df.hist(figsize =(12,14),bins = 15, grid = True)\n",
    "plt.show()"
   ]
  },
  {
   "cell_type": "code",
   "execution_count": null,
   "metadata": {},
   "outputs": [],
   "source": []
  },
  {
   "cell_type": "code",
   "execution_count": null,
   "metadata": {},
   "outputs": [],
   "source": []
  },
  {
   "cell_type": "code",
   "execution_count": 27,
   "metadata": {},
   "outputs": [],
   "source": [
    "class DecisionTreeRegressor:\n",
    "    \n",
    "    class Node:\n",
    "    \n",
    "        def __init__(self, index, t, true_branch, false_branch):\n",
    "            self.index = index  # индекс признака, по которому ведется сравнение с порогом в этом узле\n",
    "            self.t = t  # значение порога\n",
    "            self.true_branch = true_branch  # поддерево, удовлетворяющее условию в узле\n",
    "            self.false_branch = false_branch  # поддерево, не удовлетворяющее условию в узле\n",
    "        \n",
    "\n",
    "    class Leaf:\n",
    "\n",
    "        def __init__(self, data, target_values):\n",
    "            self.data = data\n",
    "            self.target_values = target_values\n",
    "            self.prediction = self.predict()\n",
    "\n",
    "        def predict(self):\n",
    "            return self.target_values.mean()\n",
    "        \n",
    "    def _H(self, target_values):\n",
    "        return sum(target_values - target_values.mean()) / len(target_values)\n",
    "\n",
    "    def _quality(self, left_target_values, right_target_values, current_H):\n",
    "        p = float(left_target_values.shape[0]) / (left_target_values.shape[0] + right_target_values.shape[0])\n",
    "        return current_H - p * self._H(left_target_values) - (1 - p) * self._H(right_target_values)\n",
    "\n",
    "    def _split(self, data, target_values, index, t):\n",
    "\n",
    "        left = np.where(data[:, index] <= t)\n",
    "        right = np.where(data[:, index] > t)\n",
    "\n",
    "        true_data = data[left]\n",
    "        false_data = data[right]\n",
    "        true_target_values = target_values[left]\n",
    "        false_target_values = target_values[right]\n",
    "\n",
    "        return true_data, false_data, true_target_values, false_target_values\n",
    "\n",
    "    def _find_best_split(self, data, target_values):\n",
    "\n",
    "        #  обозначим минимальное количество объектов в узле\n",
    "        min_leaf = 5\n",
    "\n",
    "        current_H = self._H(target_values)\n",
    "\n",
    "        best_quality = 0\n",
    "        best_t = None\n",
    "        best_index = None\n",
    "\n",
    "        n_features = data.shape[1]\n",
    "\n",
    "        for index in range(n_features):\n",
    "            # будем проверять только уникальные значения признака, исключая повторения\n",
    "            t_values = np.unique([row[index] for row in data])\n",
    "\n",
    "            for t in t_values:\n",
    "                true_data, false_data, true_target_values, false_target_values = self._split(data, target_values, index, t)\n",
    "                #  пропускаем разбиения, в которых в узле остается менее 5 объектов\n",
    "                if len(true_data) < min_leaf or len(false_data) < min_leaf:\n",
    "                    continue\n",
    "\n",
    "                current_quality = self._quality(true_target_values, false_target_values, current_H)\n",
    "\n",
    "                #  выбираем порог, на котором получается максимальный прирост качества\n",
    "                if current_quality > best_quality:\n",
    "                    best_quality, best_t, best_index = current_quality, t, index\n",
    "\n",
    "        return best_quality, best_t, best_index\n",
    "\n",
    "    def _build_tree(self, data, target_values, current_depth):\n",
    "        \n",
    "        # Если параметр current_deep не None уменьшаю счетчик оставшейся глубины дерева\n",
    "        # Как он достигает 0, прекращаю цикл\n",
    "        if current_depth is not None:\n",
    "            if current_depth == 0:\n",
    "                return self.Leaf(data, target_values)\n",
    "            current_depth -= 1\n",
    "        \n",
    "        quality, t, index = self._find_best_split(data, target_values)\n",
    "\n",
    "        #  Базовый случай - прекращаем рекурсию, когда нет прироста в качества\n",
    "        if quality == 0:\n",
    "            return self.Leaf(data, target_values)\n",
    "\n",
    "        true_data, false_data, true_target_values, false_target_values = self._split(data, target_values, index, t)\n",
    "\n",
    "        # Рекурсивно строим два поддерева\n",
    "        true_branch = self._build_tree(true_data, true_target_values, current_depth)\n",
    "        false_branch = self._build_tree(false_data, false_target_values, current_depth)\n",
    "    \n",
    "        # Возвращаем класс узла со всеми поддеревьями, то есть целого дерева\n",
    "        return self.Node(index, t, true_branch, false_branch)\n",
    "        \n",
    "    def build(self, data, target_values, max_depth=None):\n",
    "        \"\"\"max_deep - параметр, ограничивающий максимальную глубину создаваемого дерева. \n",
    "        Если None, то глубина дерева не ограничена\"\"\"\n",
    "        self.tree = self._build_tree(data, target_values, max_depth)\n",
    "\n",
    "    def _classify_object(self, obj, node):\n",
    "\n",
    "        #  Останавливаем рекурсию, если достигли листа\n",
    "        if isinstance(node, self.Leaf):\n",
    "            answer = node.prediction\n",
    "            return answer\n",
    "\n",
    "        if obj[node.index] <= node.t:\n",
    "            return self._classify_object(obj, node.true_branch)\n",
    "        else:\n",
    "            return self._classify_object(obj, node.false_branch)\n",
    "\n",
    "    def predict(self, data):\n",
    "\n",
    "        classes = []\n",
    "        for obj in data:\n",
    "            prediction = self._classify_object(obj, self.tree)\n",
    "            classes.append(prediction)\n",
    "        return classes"
   ]
  },
  {
   "cell_type": "code",
   "execution_count": 36,
   "metadata": {},
   "outputs": [],
   "source": [
    "class GradientBoosting:\n",
    "    \n",
    "    @staticmethod\n",
    "    def mean_squared_error(y_real, prediction):\n",
    "        return (sum((y_real - prediction)**2)) / len(y_real)\n",
    "    \n",
    "    @staticmethod\n",
    "    def bias(y, z):\n",
    "        return 2 * (y - z)\n",
    "    \n",
    "    def fit(self, n_trees, max_depth, X_train, X_test, y_train, y_test, coefs, eta):\n",
    "    \n",
    "        # Деревья будем записывать в список\n",
    "        trees = []\n",
    "\n",
    "        for i in range(n_trees):\n",
    "            tree = DecisionTreeRegressor()\n",
    "\n",
    "            # инициализируем бустинг начальным алгоритмом, возвращающим ноль, \n",
    "            # поэтому первый алгоритм просто обучаем на выборке и добавляем в список\n",
    "            if len(trees) == 0:\n",
    "                # обучаем первое дерево на обучающей выборке\n",
    "                tree.build(X_train, y_train, max_depth=max_depth)\n",
    "\n",
    "            else:\n",
    "                # Получим ответы на текущей композиции\n",
    "                target = self.predict(X_train, trees, coefs, eta)\n",
    "\n",
    "                # алгоритмы начиная со второго обучаем на сдвиг\n",
    "                tree.build(X_train, self.bias(y_train, target), max_depth=max_depth)\n",
    "\n",
    "            trees.append(tree)\n",
    "            \n",
    "        return trees, train_errors, test_errors\n",
    "        \n",
    "    def predict(self, X, trees_list, coef_list, eta):\n",
    "        # Реализуемый алгоритм градиентного бустинга будет инициализироваться нулевыми значениями,\n",
    "        # поэтому все деревья из списка trees_list уже являются дополнительными и при предсказании прибавляются с шагом eta\n",
    "        return np.array([sum([eta* coef * alg.predict([x])[0] for alg, coef in zip(trees_list, coef_list)]) for x in X])"
   ]
  },
  {
   "cell_type": "code",
   "execution_count": 37,
   "metadata": {},
   "outputs": [],
   "source": [
    "def r_squared_score(y_true, y_pred):\n",
    "        corr_matrix = np.corrcoef(y_true, y_pred)\n",
    "        corr = corr_matrix[0,1]\n",
    "        return corr**2"
   ]
  },
  {
   "cell_type": "code",
   "execution_count": 38,
   "metadata": {},
   "outputs": [],
   "source": [
    "from sklearn.datasets import load_diabetes\n",
    "X, y = load_diabetes(return_X_y=True)\n",
    "X_train, X_test, y_train, y_test = train_test_split(X, y, test_size=0.25)"
   ]
  },
  {
   "cell_type": "code",
   "execution_count": 39,
   "metadata": {},
   "outputs": [],
   "source": [
    "# Число деревьев в ансамбле\n",
    "n_trees = 100\n",
    "\n",
    "# для простоты примем коэффициенты равными 1\n",
    "coefs = [1] * n_trees\n",
    "\n",
    "# Максимальная глубина деревьев\n",
    "max_depth = 5\n",
    "\n",
    "# Шаг\n",
    "eta = 0.001\n",
    "\n",
    "gb_model = GradientBoosting()\n",
    "trees, train_errors, test_errors = gb_model.fit(n_trees, max_depth, X_train, X_test, y_train, y_test, coefs, eta)"
   ]
  },
  {
   "cell_type": "code",
   "execution_count": 40,
   "metadata": {},
   "outputs": [],
   "source": [
    "y_pred = gb_model.predict(X_test, trees, coefs, eta)"
   ]
  },
  {
   "cell_type": "code",
   "execution_count": 41,
   "metadata": {},
   "outputs": [
    {
     "data": {
      "text/plain": [
       "0.39882413459855004"
      ]
     },
     "execution_count": 41,
     "metadata": {},
     "output_type": "execute_result"
    }
   ],
   "source": [
    "r_squared_score(y_test, y_pred)"
   ]
  },
  {
   "cell_type": "code",
   "execution_count": null,
   "metadata": {},
   "outputs": [],
   "source": []
  }
 ],
 "metadata": {
  "kernelspec": {
   "display_name": "Python 3",
   "language": "python",
   "name": "python3"
  },
  "language_info": {
   "codemirror_mode": {
    "name": "ipython",
    "version": 3
   },
   "file_extension": ".py",
   "mimetype": "text/x-python",
   "name": "python",
   "nbconvert_exporter": "python",
   "pygments_lexer": "ipython3",
   "version": "3.8.5"
  }
 },
 "nbformat": 4,
 "nbformat_minor": 5
}
