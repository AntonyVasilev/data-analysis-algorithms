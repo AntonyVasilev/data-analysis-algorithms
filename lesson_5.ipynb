{
 "cells": [
  {
   "cell_type": "markdown",
   "metadata": {},
   "source": [
    "### Практическое задание к уроку 5\n",
    "Реализовать оценку Out-of-Bag ошибок для каждого из деревьев леса"
   ]
  },
  {
   "cell_type": "code",
   "execution_count": 1,
   "metadata": {},
   "outputs": [],
   "source": [
    "import matplotlib.pyplot as plt\n",
    "import random\n",
    "\n",
    "from matplotlib.colors import ListedColormap\n",
    "from sklearn import datasets\n",
    "\n",
    "import numpy as np"
   ]
  },
  {
   "cell_type": "code",
   "execution_count": 10,
   "metadata": {},
   "outputs": [],
   "source": [
    "class RandomForest:\n",
    "    \n",
    "    class Node:\n",
    "    \n",
    "        def __init__(self, index, t, true_branch, false_branch):\n",
    "            self.index = index  # индекс признака, по которому ведется сравнение с порогом в этом узле\n",
    "            self.t = t  # значение порога\n",
    "            self.true_branch = true_branch  # поддерево, удовлетворяющее условию в узле\n",
    "            self.false_branch = false_branch  # поддерево, не удовлетворяющее условию в узле\n",
    "        \n",
    "\n",
    "    class Leaf:\n",
    "\n",
    "        def __init__(self, data, labels):\n",
    "            self.data = data\n",
    "            self.labels = labels\n",
    "            self.prediction = self.predict()\n",
    "\n",
    "        def predict(self):\n",
    "            # подсчет количества объектов разных классов\n",
    "            classes = {}  # сформируем словарь \"класс: количество объектов\"\n",
    "            for label in self.labels:\n",
    "                if label not in classes:\n",
    "                    classes[label] = 0\n",
    "                classes[label] += 1\n",
    "            #  найдем класс, количество объектов которого будет максимальным в этом листе и вернем его    \n",
    "            prediction = max(classes, key=classes.get)\n",
    "            return prediction  \n",
    "    \n",
    "    \n",
    "    def __init__(self, method='gini', random_state=None):\n",
    "        self.method = method\n",
    "        self._random_state = random_state\n",
    "        \n",
    "    def _H(self, labels):\n",
    "        classes = {}\n",
    "        for label in labels:\n",
    "            if label not in classes:\n",
    "                classes[label] = 0\n",
    "            classes[label] += 1\n",
    "\n",
    "        if self.method == 'entropy':\n",
    "            impurity = 0\n",
    "            for label in classes:\n",
    "                p = classes[label] / len(labels)\n",
    "                # Если p равна нулю, то не изменяем impurity, т.к. полагается, что 0*np.log2(0)=0\n",
    "                if p != 0:\n",
    "                    impurity -= p * np.log2(p)\n",
    "        else:\n",
    "            impurity = 1\n",
    "            for label in classes:\n",
    "                p = classes[label] / len(labels)\n",
    "                impurity -= p ** 2\n",
    "\n",
    "        return impurity\n",
    "\n",
    "    def _quality(self, left_labels, right_labels, current_H):\n",
    "\n",
    "        p = float(left_labels.shape[0]) / (left_labels.shape[0] + right_labels.shape[0])\n",
    "\n",
    "        return current_H - p * self._H(left_labels) - (1 - p) * self._H(right_labels)\n",
    "\n",
    "    @staticmethod\n",
    "    def _split(data, labels, index, t):\n",
    "\n",
    "        left = np.where(data[:, index] <= t)\n",
    "        right = np.where(data[:, index] > t)\n",
    "\n",
    "        true_data = data[left]\n",
    "        false_data = data[right]\n",
    "        true_labels = labels[left]\n",
    "        false_labels = labels[right]\n",
    "\n",
    "        return true_data, false_data, true_labels, false_labels\n",
    "    \n",
    "    # Генерация подмножества признаков\n",
    "    @staticmethod\n",
    "    def _get_subsample(len_sample):\n",
    "        # будем сохранять не сами признаки, а их индексы\n",
    "        sample_indexes = [i for i in range(len_sample)]\n",
    "\n",
    "        len_subsample = int(np.sqrt(len_sample))\n",
    "        subsample = []\n",
    "\n",
    "        random.shuffle(sample_indexes)\n",
    "        for _ in range(len_subsample):\n",
    "            subsample.append(sample_indexes.pop())\n",
    "\n",
    "        return subsample\n",
    "\n",
    "    def _find_best_split(self, data, labels):\n",
    "\n",
    "        #  обозначим минимальное количество объектов в узле\n",
    "        min_leaf = 1\n",
    "\n",
    "        current_H = self._H(labels)\n",
    "\n",
    "        best_quality = 0\n",
    "        best_t = None\n",
    "        best_index = None\n",
    "\n",
    "        n_features = data.shape[1]\n",
    "        \n",
    "        # выбор индекса из подвыборки длиной sqrt(n_features)\n",
    "        subsample = self._get_subsample(n_features)\n",
    "\n",
    "        for index in subsample:\n",
    "            # будем проверять только уникальные значения признака, исключая повторения\n",
    "            t_values = np.unique([row[index] for row in data])\n",
    "\n",
    "            for t in t_values:\n",
    "                true_data, false_data, true_labels, false_labels = self._split(data, labels, index, t)\n",
    "                #  пропускаем разбиения, в которых в узле остается менее 1 объекта\n",
    "                if len(true_data) < min_leaf or len(false_data) < min_leaf:\n",
    "                    continue\n",
    "\n",
    "                current_quality = self._quality(true_labels, false_labels, current_H)\n",
    "\n",
    "                #  выбираем порог, на котором получается максимальный прирост качества\n",
    "                if current_quality > best_quality:\n",
    "                    best_quality, best_t, best_index = current_quality, t, index\n",
    "\n",
    "        return best_quality, best_t, best_index  \n",
    "    \n",
    "    def _build_tree(self, data, labels, current_deep):\n",
    "        \n",
    "        if current_deep is not None:\n",
    "            if current_deep == 0:\n",
    "                return self.Leaf(data, labels)\n",
    "            current_deep -= 1\n",
    "        \n",
    "        quality, t, index = self._find_best_split(data, labels)\n",
    "\n",
    "        #  Базовый случай - прекращаем рекурсию, когда нет прироста в качества\n",
    "        if quality == 0:\n",
    "            return self.Leaf(data, labels)\n",
    "\n",
    "        true_data, false_data, true_labels, false_labels = self._split(data, labels, index, t)\n",
    "\n",
    "        # Рекурсивно строим два поддерева\n",
    "        true_branch = self._build_tree(true_data, true_labels, current_deep)\n",
    "        false_branch = self._build_tree(false_data, false_labels, current_deep)\n",
    "    \n",
    "        # Возвращаем класс узла со всеми поддеревьями, то есть целого дерева\n",
    "        return self.Node(index, t, true_branch, false_branch)\n",
    "        \n",
    "    def _classify_object(self, obj, node):\n",
    "\n",
    "        #  Останавливаем рекурсию, если достигли листа\n",
    "        if isinstance(node, self.Leaf):\n",
    "            answer = node.prediction\n",
    "            return answer\n",
    "\n",
    "        if obj[node.index] <= node.t:\n",
    "            return self._classify_object(obj, node.true_branch)\n",
    "        else:\n",
    "            return self._classify_object(obj, node.false_branch)\n",
    "\n",
    "    def _predict(self, data, tree):\n",
    "\n",
    "        classes = []\n",
    "        for obj in data:\n",
    "            prediction = self._classify_object(obj, tree)\n",
    "            classes.append(prediction)\n",
    "        return classes\n",
    "    \n",
    "    # Генерация bootstrap выборок\n",
    "    def _get_bootstrap(self, data, labels, N):\n",
    "        if self._random_state is not None:\n",
    "            random.seed(self._random_state)\n",
    "        n_samples = data.shape[0]\n",
    "        bootstrap = []\n",
    "        # Множество с индексами для отбора индексов для OOB\n",
    "        n_samples_set = set(range(n_samples))\n",
    "        # Список индексов OOB\n",
    "        OOB_indexes_list = []\n",
    "        # Словарь, хранящий индексы данных в ключе и список деревьев не обучавшихся на этих данных\n",
    "        OOB_indexes_dict = {index: [] for index in range(train_data.shape[0])}\n",
    "\n",
    "        for i in range(N):\n",
    "            b_data = np.zeros(data.shape)\n",
    "            b_labels = np.zeros(labels.shape)\n",
    "            indexes_set = set()\n",
    "            for j in range(n_samples):\n",
    "                sample_index = random.randint(0, n_samples-1)\n",
    "                b_data[j] = data[sample_index]\n",
    "                b_labels[j] = labels[sample_index]\n",
    "                indexes_set.add(sample_index)\n",
    "            bootstrap.append((b_data, b_labels))\n",
    "            # Формирую список индексов данных OOB\n",
    "            OOB_indexes = indexes_set.symmetric_difference(n_samples_set)\n",
    "            OOB_indexes_list.append(list(OOB_indexes))\n",
    "\n",
    "        # Заполняю словарь\n",
    "        for i, tree in enumerate(OOB_indexes_list):\n",
    "            for index in tree:\n",
    "                OOB_indexes_dict[index].append(i)\n",
    "\n",
    "        return bootstrap, OOB_indexes_dict\n",
    "\n",
    "    @staticmethod\n",
    "    def _get_OOB_score(trees_preds, labels):\n",
    "        OOB_score = [0] * len(trees_preds)\n",
    "\n",
    "        for i, tree in enumerate(trees_preds):\n",
    "            correct_preds = 0\n",
    "            for lable, prediction in tree:\n",
    "                if prediction == labels[lable]:\n",
    "                    correct_preds += 1\n",
    "            OOB_score[i] = correct_preds / len(tree)\n",
    "        return OOB_score\n",
    "    \n",
    "    def _OOB_score(self, forest, data, labels, OOB_indexes):\n",
    "        trees_preds = [[] for _ in range(len(forest))]\n",
    "        for index, trees_list in OOB_indexes.items():\n",
    "            predictions = []\n",
    "            if trees_list:\n",
    "                for tree in trees_list:\n",
    "                    predictions.append(self._classify_object(data[index], forest[tree]))\n",
    "                current_prediction = max(set(predictions), key=predictions.count)\n",
    "                for tree in trees_list:\n",
    "                    trees_preds[tree].append((index, current_prediction))\n",
    "        return self._get_OOB_score(trees_preds, labels)\n",
    "\n",
    "    def build(self, data, labels, n_trees, max_deep=None):\n",
    "        self.forest = []\n",
    "        bootstrap, OOB_indexes = self._get_bootstrap(data, labels, n_trees)\n",
    "\n",
    "        for b_data, b_labels in bootstrap:\n",
    "            self.forest.append(self._build_tree(b_data, b_labels, max_deep))\n",
    "        \n",
    "        self.OOBS = self._OOB_score(self.forest, data, labels, OOB_indexes)\n",
    "    \n",
    "    # предсказание голосованием деревьев\n",
    "    def predict(self, data):\n",
    "\n",
    "        # добавим предсказания всех деревьев в список\n",
    "        predictions = []\n",
    "        for tree in self.forest:\n",
    "            predictions.append(self._predict(data, tree))\n",
    "\n",
    "        # сформируем список с предсказаниями для каждого объекта\n",
    "        predictions_per_object = list(zip(*predictions))\n",
    "\n",
    "        # выберем в качестве итогового предсказания для каждого объекта то,\n",
    "        # за которое проголосовало большинство деревьев\n",
    "        voted_predictions = []\n",
    "        for obj in predictions_per_object:\n",
    "            voted_predictions.append(max(set(obj), key=obj.count))\n",
    "\n",
    "        return voted_predictions"
   ]
  },
  {
   "cell_type": "code",
   "execution_count": 33,
   "metadata": {},
   "outputs": [],
   "source": [
    "def accuracy_metric(actual, predicted):\n",
    "  correct = 0\n",
    "  for i in range(len(actual)):\n",
    "      if actual[i] == predicted[i]:\n",
    "          correct += 1\n",
    "  return correct / float(len(actual)) * 100.0"
   ]
  },
  {
   "cell_type": "code",
   "execution_count": 30,
   "metadata": {},
   "outputs": [],
   "source": [
    "# сгенерируем данные, представляющие собой 500 объектов с 5-ю признаками\n",
    "classification_data, classification_labels = datasets.make_classification(n_samples=500,\n",
    "                                                      n_features = 5, n_informative = 5, \n",
    "                                                      n_classes = 2, n_redundant=0, \n",
    "                                                      n_clusters_per_class=1, random_state=23)"
   ]
  },
  {
   "cell_type": "code",
   "execution_count": 31,
   "metadata": {},
   "outputs": [
    {
     "data": {
      "text/plain": [
       "<matplotlib.collections.PathCollection at 0x1c8917e5400>"
      ]
     },
     "execution_count": 31,
     "metadata": {},
     "output_type": "execute_result"
    },
    {
     "data": {
      "image/png": "[encoded data removed]",
      "text/plain": [
       "<Figure size 576x576 with 1 Axes>"
      ]
     },
     "metadata": {
      "needs_background": "light"
     },
     "output_type": "display_data"
    }
   ],
   "source": [
    "# визуализируем сгенерированные данные\n",
    "\n",
    "colors = ListedColormap(['red', 'blue'])\n",
    "light_colors = ListedColormap(['lightcoral', 'lightblue'])\n",
    "\n",
    "plt.figure(figsize=(8,8))\n",
    "plt.scatter(list(map(lambda x: x[0], classification_data)), list(map(lambda x: x[1], classification_data)), \n",
    "              c=classification_labels, cmap=colors)"
   ]
  },
  {
   "cell_type": "code",
   "execution_count": 32,
   "metadata": {},
   "outputs": [],
   "source": [
    "# Разобьем выборку на обучающую и тестовую\n",
    "\n",
    "from sklearn import model_selection\n",
    "\n",
    "train_data, test_data, train_labels, test_labels = model_selection.train_test_split(classification_data, \n",
    "                                                                                     classification_labels, \n",
    "                                                                                     test_size = 0.3,\n",
    "                                                                                     random_state = 1)"
   ]
  },
  {
   "cell_type": "code",
   "execution_count": 34,
   "metadata": {},
   "outputs": [],
   "source": [
    "n_trees = 5"
   ]
  },
  {
   "cell_type": "code",
   "execution_count": 35,
   "metadata": {},
   "outputs": [],
   "source": [
    "my_forest = RandomForest(random_state=42)"
   ]
  },
  {
   "cell_type": "code",
   "execution_count": 36,
   "metadata": {},
   "outputs": [],
   "source": [
    "my_forest.build(train_data, train_labels, n_trees)"
   ]
  },
  {
   "cell_type": "code",
   "execution_count": 37,
   "metadata": {},
   "outputs": [
    {
     "data": {
      "text/plain": [
       "[0.8345864661654135,\n",
       " 0.8429752066115702,\n",
       " 0.8387096774193549,\n",
       " 0.8854961832061069,\n",
       " 0.9047619047619048]"
      ]
     },
     "execution_count": 37,
     "metadata": {},
     "output_type": "execute_result"
    }
   ],
   "source": [
    "my_forest.OOBS"
   ]
  },
  {
   "cell_type": "code",
   "execution_count": 38,
   "metadata": {},
   "outputs": [],
   "source": [
    "train_answers = my_forest.predict(train_data)"
   ]
  },
  {
   "cell_type": "code",
   "execution_count": 39,
   "metadata": {},
   "outputs": [],
   "source": [
    "test_answers = my_forest.predict(test_data)"
   ]
  },
  {
   "cell_type": "code",
   "execution_count": 40,
   "metadata": {},
   "outputs": [
    {
     "name": "stdout",
     "output_type": "stream",
     "text": [
      "Точность случайного леса из 5 деревьев на обучающей выборке: 97.714\n"
     ]
    }
   ],
   "source": [
    "train_accuracy = accuracy_metric(train_labels, train_answers)\n",
    "print(f'Точность случайного леса из {n_trees} деревьев на обучающей выборке: {train_accuracy:.3f}')"
   ]
  },
  {
   "cell_type": "code",
   "execution_count": 41,
   "metadata": {},
   "outputs": [
    {
     "name": "stdout",
     "output_type": "stream",
     "text": [
      "Точность случайного леса из 5 деревьев на тестовой выборке: 94.667\n"
     ]
    }
   ],
   "source": [
    "# Точность на тестовой выборке\n",
    "test_accuracy = accuracy_metric(test_labels, test_answers)\n",
    "print(f'Точность случайного леса из {n_trees} деревьев на тестовой выборке: {test_accuracy:.3f}')"
   ]
  },
  {
   "cell_type": "code",
   "execution_count": null,
   "metadata": {},
   "outputs": [],
   "source": []
  }
 ],
 "metadata": {
  "kernelspec": {
   "display_name": "Python 3",
   "language": "python",
   "name": "python3"
  },
  "language_info": {
   "codemirror_mode": {
    "name": "ipython",
    "version": 3
   },
   "file_extension": ".py",
   "mimetype": "text/x-python",
   "name": "python",
   "nbconvert_exporter": "python",
   "pygments_lexer": "ipython3",
   "version": "3.8.5"
  }
 },
 "nbformat": 4,
 "nbformat_minor": 4
}
