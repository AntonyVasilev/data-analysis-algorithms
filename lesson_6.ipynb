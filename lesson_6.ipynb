{
 "cells": [
  {
   "cell_type": "markdown",
   "metadata": {},
   "source": [
    "### Практическое задание к уроку 6\n",
    "1. Реализовать адаптивный бустинг использующий Логистическую Регрессию и меру ошибок LogLoss. Сравнить с точностью адаптивного бустинга на деревьях решений. Для сбора предсказаний можно использовать ту же функцию predict что и для бустинга на деревьях\n",
    "2. Реализовать специальную функцию predict для бустинга на логистической регрессии выводящую предсказания по формуле:$ Predictions=sign(Score_{bust})$, где sign равен единице для положительных и нулю для отрицательных значений, а $ Score_{bust}= \\sum \\alpha_iScore_i$. Баллы выдаваемые каждой моделью $Score_i$ можно найти при помощи вызова метода decision_function на моделе"
   ]
  },
  {
   "cell_type": "code",
   "execution_count": 1,
   "metadata": {},
   "outputs": [],
   "source": [
    "from sklearn.linear_model import LogisticRegression\n",
    "from sklearn.tree import DecisionTreeClassifier\n",
    "from sklearn.datasets import load_breast_cancer\n",
    "import matplotlib.pyplot as plt\n",
    "\n",
    "from sklearn import model_selection\n",
    "import numpy as np\n",
    "\n",
    "import warnings"
   ]
  },
  {
   "cell_type": "code",
   "execution_count": 2,
   "metadata": {},
   "outputs": [],
   "source": [
    "def get_error(pred, y):\n",
    "    return np.sum((pred != y).astype(int)) / len(y)"
   ]
  },
  {
   "cell_type": "code",
   "execution_count": 3,
   "metadata": {},
   "outputs": [],
   "source": [
    "# LogLoss\n",
    "def log_loss(pred, y): \n",
    "    return -np.sum(y*np.log2(pred)+(1-y)*np.log2(1-pred))/len(y)"
   ]
  },
  {
   "cell_type": "code",
   "execution_count": 4,
   "metadata": {},
   "outputs": [],
   "source": [
    "# Адаптивный бустинг на деревьях решений\n",
    "def adaboost(X, y, N):\n",
    "\n",
    "    # Размер выборки\n",
    "    n_objects = len(X)\n",
    "\n",
    "    # Запишем количество классов в переменную\n",
    "    n_classes = len(np.unique((y)))\n",
    "\n",
    "    # Начальные веса деревьев\n",
    "    w = np.ones(n_objects) / n_objects\n",
    "\n",
    "    # Деревья с весами будем записывать в список\n",
    "    models = []\n",
    "\n",
    "    for n in range(N):\n",
    "        # Зададим дерево и обучим его\n",
    "        clf = DecisionTreeClassifier(max_depth=1)\n",
    "        clf.fit(X, y, w)\n",
    "\n",
    "        predictions = clf.predict(X)\n",
    "        e = get_error(predictions, y)\n",
    "        # отбросим дерево, если его ошибка больше 0.5\n",
    "        # Запишем условие в общем виде (применимо к небинарным классификаторам)\n",
    "        if e >= 1 - 1/n_classes: \n",
    "            break\n",
    "\n",
    "        # Вычислим вес для дерева\n",
    "        alpha = 0.5 * np.log((1 - e) / e)\n",
    "\n",
    "        # Найдем индексы правильно классифицированных элементов\n",
    "        match = predictions == y\n",
    "\n",
    "        # Увеличим веса для неправильно классифицированных элементов\n",
    "        w[np.logical_not(match)] *= np.exp(alpha)\n",
    "        w[match] *= np.exp(-alpha)\n",
    "\n",
    "        # Нормализуем веса\n",
    "        w /= w.sum()\n",
    "\n",
    "        # Добавим дерево с весом в список\n",
    "        models.append((alpha, clf))\n",
    "    \n",
    "    return models"
   ]
  },
  {
   "cell_type": "code",
   "execution_count": 6,
   "metadata": {},
   "outputs": [],
   "source": [
    "def predict(X, models, n_classes = 2):\n",
    "    \n",
    "    n_objects = len(X)\n",
    "    \n",
    "    # вначале обозначим предсказание нулевым массивом\n",
    "    y_pred = np.zeros((n_objects, n_classes))\n",
    "    \n",
    "    for alpha, clf in models:\n",
    "        prediction = clf.predict(X)\n",
    "        # Для каждого предсказания будем прибавлять alpha к\n",
    "        # элементу с индексом предсказанного класса\n",
    "        y_pred[range(n_objects), prediction] += alpha\n",
    "    \n",
    "    # выберем индексы с максимальными суммарными весами -\n",
    "    # получим предсказанные алгоритмом классы\n",
    "    y_pred = np.argmax(y_pred, axis=1)\n",
    "    \n",
    "    return y_pred"
   ]
  },
  {
   "cell_type": "code",
   "execution_count": 5,
   "metadata": {},
   "outputs": [],
   "source": [
    "# Адаптивный бустинг на логистической регрессии\n",
    "def adaboost_log(X, y, N):\n",
    "\n",
    "    # Размер выборки\n",
    "    n_objects = len(X)\n",
    "\n",
    "    # Запишем количество классов в переменную\n",
    "    n_classes = len(np.unique((y)))\n",
    "\n",
    "    # Начальные веса деревьев\n",
    "    w = np.ones(n_objects) / n_objects\n",
    "\n",
    "    # Деревья с весами будем записывать в список\n",
    "    models = []\n",
    "\n",
    "    for n in range(N):\n",
    "        # Зададим дерево и обучим его\n",
    "        \n",
    "        with warnings.catch_warnings():\n",
    "            warnings.simplefilter(\"ignore\")\n",
    "            clf = LogisticRegression()\n",
    "            clf.fit(X, y, w)\n",
    "\n",
    "        predictions = clf.predict(X)\n",
    "        probabilities = clf.predict_proba(X)[:, 1]\n",
    "        e = log_loss(probabilities, y)\n",
    "        # отбрасываю модель, если её ошибка больше 0.5\n",
    "        # Сравнение разных порогов отсечения моделей показало, что порог 0.5 является оптимальным\n",
    "        # При его уменьшении сильно падает качество предсказания, а увеличение не влияет на результат\n",
    "        if e >= 0.5: \n",
    "            break\n",
    "\n",
    "        # Вычислим вес для дерева\n",
    "        alpha = 0.5 * np.log((1 - e) / e)\n",
    "\n",
    "        # Найдем индексы правильно классифицированных элементов\n",
    "        match = predictions == y\n",
    "\n",
    "        # Увеличим веса для неправильно классифицированных элементов\n",
    "        w[np.logical_not(match)] *= np.exp(alpha)\n",
    "        w[match] *= np.exp(-alpha)\n",
    "\n",
    "        # Нормализуем веса\n",
    "        w /= w.sum()\n",
    "\n",
    "        # Добавим дерево с весом в список\n",
    "        models.append((alpha, clf))\n",
    "    \n",
    "    return models"
   ]
  },
  {
   "cell_type": "code",
   "execution_count": 19,
   "metadata": {},
   "outputs": [],
   "source": [
    "# функция predict, использующая метод decision_function модели LogisticRegression\n",
    "def predict_with_decision_func(X, models, n_classes = 2):\n",
    "    \n",
    "    n_objects = len(X)\n",
    "    \n",
    "    # вначале обозначим предсказание нулевым массивом\n",
    "    y_pred = np.zeros((n_objects, n_classes))\n",
    "    score_bust = np.zeros(n_objects)\n",
    "    \n",
    "    for alpha, clf in models:\n",
    "        score = clf.decision_function(X)\n",
    "        score_bust += (alpha * score)\n",
    "    \n",
    "    y_pred = np.where(score_bust >= 0, 1, 0)\n",
    "    \n",
    "    return y_pred"
   ]
  },
  {
   "cell_type": "markdown",
   "metadata": {},
   "source": [
    "Загружаю датасет и обучаю 2 модели адаптичного бустинга: на деревьях решений и на логистической регрессии."
   ]
  },
  {
   "cell_type": "code",
   "execution_count": 16,
   "metadata": {},
   "outputs": [],
   "source": [
    "X, y = load_breast_cancer(return_X_y=True)\n",
    "X_train, X_test, y_train, y_test = model_selection.train_test_split(X, y, test_size=0.25, random_state=0)"
   ]
  },
  {
   "cell_type": "code",
   "execution_count": 17,
   "metadata": {},
   "outputs": [],
   "source": [
    "N = 50\n",
    "\n",
    "models_tree = adaboost(X_train, y_train, N)\n",
    "models_log = adaboost_log(X_train, y_train, N)"
   ]
  },
  {
   "cell_type": "code",
   "execution_count": 20,
   "metadata": {},
   "outputs": [
    {
     "name": "stdout",
     "output_type": "stream",
     "text": [
      "Точность бустинга на деревьях решений на обучающей выборке: 97.183\n",
      "Точность бустинга на логистической регрессии на обучающей выборке: 93.662\n"
     ]
    }
   ],
   "source": [
    "print(f'Точность бустинга на деревьях решений на обучающей выборке: {(1 - get_error(predict(X_train, models_tree), y_train)) * 100:.3f}')\n",
    "print(f'Точность бустинга на логистической регрессии на обучающей выборке: {(1 - get_error(predict_with_decision_func(X_train, models_log), y_train)) * 100:.3f}')"
   ]
  },
  {
   "cell_type": "code",
   "execution_count": 21,
   "metadata": {},
   "outputs": [
    {
     "name": "stdout",
     "output_type": "stream",
     "text": [
      "Точность бустинга на деревьях решений на тестовой выборке: 95.105\n",
      "Точность бустинга на логистической регрессии на тестовой выборке: 92.308\n"
     ]
    }
   ],
   "source": [
    "print(f'Точность бустинга на деревьях решений на тестовой выборке: {(1 - get_error(predict(X_test, models_tree), y_test)) * 100:.3f}')\n",
    "print(f'Точность бустинга на логистической регрессии на тестовой выборке: {(1 - get_error(predict_with_decision_func(X_test, models_log), y_test)) * 100:.3f}')"
   ]
  },
  {
   "cell_type": "markdown",
   "metadata": {},
   "source": [
    "Из полученных оценок точности хорошо видно, что адаптивный бустинг на деревьях решений переобучается на обучающей выборке, в то время как адаптивный бустинг на логистической регрессии показывает практически идентичный результат как на обучающей выборке, так и на тестовой. Не смотря на переобучение, бустинг на деревьях решений показал результат лучше, чем бустинг на логистической регресии."
   ]
  },
  {
   "cell_type": "code",
   "execution_count": null,
   "metadata": {},
   "outputs": [],
   "source": []
  }
 ],
 "metadata": {
  "kernelspec": {
   "display_name": "Python 3",
   "language": "python",
   "name": "python3"
  },
  "language_info": {
   "codemirror_mode": {
    "name": "ipython",
    "version": 3
   },
   "file_extension": ".py",
   "mimetype": "text/x-python",
   "name": "python",
   "nbconvert_exporter": "python",
   "pygments_lexer": "ipython3",
   "version": "3.8.5"
  }
 },
 "nbformat": 4,
 "nbformat_minor": 5
}
