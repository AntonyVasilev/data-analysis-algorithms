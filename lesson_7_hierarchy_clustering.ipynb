{
 "cells": [
  {
   "cell_type": "markdown",
   "metadata": {},
   "source": [
    "### Практическое задание к уроку 7\n",
    "Реализовать иерархическую кластеризацию с любой из межкластерных метрик, кроме рассмотренной на вебинаре(Average Linkage Distance)."
   ]
  },
  {
   "cell_type": "code",
   "execution_count": 1,
   "metadata": {},
   "outputs": [],
   "source": [
    "import numpy as np\n",
    "from sklearn import model_selection\n",
    "from sklearn.datasets import make_blobs\n",
    "from scipy.cluster import hierarchy\n",
    "import matplotlib.pyplot as plt\n",
    "from matplotlib.colors import ListedColormap\n",
    "import random\n",
    "%matplotlib inline"
   ]
  },
  {
   "cell_type": "code",
   "execution_count": 2,
   "metadata": {},
   "outputs": [],
   "source": [
    "X, y = make_blobs(n_samples=100, random_state=1)"
   ]
  },
  {
   "cell_type": "code",
   "execution_count": 3,
   "metadata": {},
   "outputs": [
    {
     "data": {
      "text/plain": [
       "<matplotlib.collections.PathCollection at 0x11ecb0130>"
      ]
     },
     "execution_count": 3,
     "metadata": {},
     "output_type": "execute_result"
    },
    {
     "data": {
      "image/png": "[encoded data removed]",
      "text/plain": [
       "<Figure size 504x504 with 1 Axes>"
      ]
     },
     "metadata": {
      "needs_background": "light"
     },
     "output_type": "display_data"
    }
   ],
   "source": [
    "plt.figure(figsize=(7,7))\n",
    "plt.scatter(X[:, 0], X[:, 1])"
   ]
  },
  {
   "cell_type": "code",
   "execution_count": 4,
   "metadata": {},
   "outputs": [],
   "source": [
    "# Расчет евклидовой метрики\n",
    "def e_metrics(x1, x2):\n",
    "    return np.sqrt(np.sum((x2-x1)**2))"
   ]
  },
  {
   "cell_type": "code",
   "execution_count": 5,
   "metadata": {},
   "outputs": [],
   "source": [
    "# Алгоритм поиска k ближайших соседей\n",
    "def kmeans(data, k, max_iterations, min_distance):\n",
    "    # Создадим словарь для классификации\n",
    "    classes = {i: [] for i in range(k)}\n",
    "    \n",
    "    # инициализируем центроиды как первые k элементов датасета\n",
    "    centroids = [data[i] for i in range(k)]\n",
    "    \n",
    "    for _ in range(max_iterations):\n",
    "        # классифицируем объекты по центроидам\n",
    "        for x in data:\n",
    "            # определим расстояния от объекта до каждого центроида\n",
    "            distances = [e_metrics(x, centroid) for centroid in centroids]\n",
    "            # отнесем объект к кластеру, до центроида которого наименьшее расстояние\n",
    "            classification = distances.index(min(distances))\n",
    "            classes[classification].append(x)\n",
    "        \n",
    "        # сохраним предыдущие центроиды в отдельный список для последующего сравнения сновыми\n",
    "        old_centroids = centroids.copy()\n",
    "        \n",
    "        # пересчитаем центроиды как среднее по кластерам\n",
    "        for classification in classes:\n",
    "            centroids[classification] = np.average(classes[classification], axis=0)\n",
    "            \n",
    "        # сравним величину смещения центроидов с минимальной\n",
    "        optimal = True\n",
    "        for centroid in range(len(centroids)):\n",
    "            if np.sum(abs((centroids[centroid] - old_centroids[centroid]) / old_centroids * 100)) > min_distance:\n",
    "                optimal = False\n",
    "                \n",
    "        # если все смещения меньше минимального, останавливаем алгоритм  \n",
    "        if optimal:\n",
    "            break\n",
    "    \n",
    "    return old_centroids, classes"
   ]
  },
  {
   "cell_type": "code",
   "execution_count": 6,
   "metadata": {},
   "outputs": [],
   "source": [
    "# Функция визуализации кластеров\n",
    "def visualize(centroids, classes):\n",
    "    colors = ['r', 'g', 'b', 'm']\n",
    "    \n",
    "    plt.figure(figsize=(7,7))\n",
    "    \n",
    "    # нанесем на график центроиды\n",
    "    for centroid in centroids:\n",
    "        plt.scatter(centroid[0], centroid[1], marker='x', s=130, c='black')\n",
    "        \n",
    "    # нанесем объекты раскрашенные по классам\n",
    "    for class_item in classes:\n",
    "        for x in classes[class_item]:\n",
    "            plt.scatter(x[0], x[1], color=colors[class_item])\n",
    "            \n",
    "    plt.show()"
   ]
  },
  {
   "cell_type": "code",
   "execution_count": 7,
   "metadata": {},
   "outputs": [
    {
     "data": {
      "image/png": "[encoded data removed]",
      "text/plain": [
       "<Figure size 504x504 with 1 Axes>"
      ]
     },
     "metadata": {
      "needs_background": "light"
     },
     "output_type": "display_data"
    }
   ],
   "source": [
    "max_iterations = 25\n",
    "min_distance = 1e-4\n",
    "\n",
    "centroids, clusters = kmeans(X, 4, max_iterations, min_distance)\n",
    "\n",
    "visualize(centroids, clusters)"
   ]
  },
  {
   "cell_type": "markdown",
   "metadata": {},
   "source": [
    "Реализовал два вида межкластерных метрик: Centroid Linkage Distance (строка 2) и Average Centroid Linkage Distance (строка 8)"
   ]
  },
  {
   "cell_type": "code",
   "execution_count": 8,
   "metadata": {},
   "outputs": [],
   "source": [
    "# Centroid Linkage Distance\n",
    "def mean_dist(s_clast, t_clast):\n",
    "    vs = sum(s_clast) / len(s_clast)\n",
    "    vt = sum(t_clast) / len(t_clast)\n",
    "    return e_metrics(vs, vt)\n",
    "\n",
    "# Average Centroid Linkage Distance\n",
    "# def mean_dist(s_clast, t_clast):\n",
    "#     vs = sum(s_clast) / len(s_clast)\n",
    "#     vt = sum(t_clast) / len(t_clast)\n",
    "#     return ((sum(e_metrics(x, vt) for x in s_clast) + sum(e_metrics(y, vs) for y in t_clast))) / (len(s_clast)*len(t_clast))\n",
    "\n",
    "def dist_matrix(clusters):\n",
    "    matrix=np.zeros((len(clusters), len(clusters)))\n",
    "    for i, u in enumerate(clusters):\n",
    "        for j, v in enumerate(clusters[i+1:], start=i+1):\n",
    "            matrix[[i, j], [j, i]]=mean_dist(u, v)\n",
    "    return matrix"
   ]
  },
  {
   "cell_type": "code",
   "execution_count": 9,
   "metadata": {},
   "outputs": [],
   "source": [
    "def indexes_to_combine(dist_matrix):\n",
    "    min_el=dist_matrix[np.triu_indices(dist_matrix.shape[0], 1)].min()\n",
    "    return np.argwhere(dist_matrix==min_el)[0], min_el"
   ]
  },
  {
   "cell_type": "code",
   "execution_count": 10,
   "metadata": {},
   "outputs": [],
   "source": [
    "def exclude_clusters(i, j, dist_matrix):\n",
    "    mask=np.ones(dist_matrix.shape[0], dtype=bool)\n",
    "    mask[i]=False\n",
    "    mask[j]=False\n",
    "    return dist_matrix[mask, :][:, mask]\n",
    "\n",
    "def merge_clusters(i, j, clusters):\n",
    "    new_cluster=clusters[i]+clusters[j]\n",
    "    return new_cluster, [c for k, c in enumerate(clusters) if not k in [i, j]]\n",
    "\n",
    "def include_cluster(dist_mat, old_clusters, new_cluster):\n",
    "    new_col=np.array([mean_dist(c, new_cluster) for c in old_clusters])[:, np.newaxis]\n",
    "    dist_mat=np.concatenate([dist_mat, new_col], axis=1)\n",
    "    new_row=np.concatenate([new_col.flatten(), [0]])[np.newaxis, :]\n",
    "    dist_mat=np.concatenate([dist_mat, new_row], axis=0)\n",
    "    return dist_mat"
   ]
  },
  {
   "cell_type": "code",
   "execution_count": 11,
   "metadata": {},
   "outputs": [],
   "source": [
    "def hierarchy_clustering(cluster_list):\n",
    "    cluster_list=cluster_list[:]\n",
    "    dist_mat=dist_matrix(cluster_list)\n",
    "    cluster_numbers=list(range(len(cluster_list)))\n",
    "    z=[]\n",
    "    new_num=len(cluster_list)\n",
    "    while len(cluster_list)>1:\n",
    "        [i, j], min_val=indexes_to_combine(dist_mat)\n",
    "        dist_mat=exclude_clusters(i, j, dist_mat)\n",
    "        new_cluster, old_clusters=merge_clusters(i, j, cluster_list)\n",
    "        dist_mat=include_cluster(dist_mat, old_clusters, new_cluster)\n",
    "        z.append([cluster_numbers[i], cluster_numbers[j], min_val, len(new_cluster)])\n",
    "        print([cluster_numbers[i], cluster_numbers[j], min_val, len(new_cluster)])\n",
    "        cluster_list=old_clusters+[new_cluster]\n",
    "        cluster_numbers=[n for k, n in enumerate(cluster_numbers) if not k in [i, j]]+[new_num]\n",
    "        new_num+=1\n",
    "    return z"
   ]
  },
  {
   "cell_type": "markdown",
   "metadata": {},
   "source": [
    "Проверяю работу алгоритма иерархической кластеризации"
   ]
  },
  {
   "cell_type": "code",
   "execution_count": 12,
   "metadata": {},
   "outputs": [],
   "source": [
    "cluster_keys = list(clusters.keys())\n",
    "cluster_data = [clusters[k] for k in cluster_keys]"
   ]
  },
  {
   "cell_type": "code",
   "execution_count": 13,
   "metadata": {},
   "outputs": [
    {
     "name": "stdout",
     "output_type": "stream",
     "text": [
      "[2, 3, 1.5381173720716417, 815]\n",
      "[1, 4, 5.494256261396432, 1650]\n",
      "[0, 5, 12.4111529263445, 2500]\n"
     ]
    }
   ],
   "source": [
    "Z = hierarchy_clustering(cluster_data)"
   ]
  },
  {
   "cell_type": "markdown",
   "metadata": {},
   "source": [
    "При использовании обоих межкластерных метрик получается результ, аналогичный полученному на уроке с метрикой Average Linkage Distance.  \n",
    "Визуализирую получившийся результат."
   ]
  },
  {
   "cell_type": "code",
   "execution_count": 14,
   "metadata": {},
   "outputs": [
    {
     "data": {
      "text/plain": [
       "{'icoord': [[25.0, 25.0, 35.0, 35.0],\n",
       "  [15.0, 15.0, 30.0, 30.0],\n",
       "  [5.0, 5.0, 22.5, 22.5]],\n",
       " 'dcoord': [[0.0, 1.5381173720716417, 1.5381173720716417, 0.0],\n",
       "  [0.0, 5.494256261396432, 5.494256261396432, 1.5381173720716417],\n",
       "  [0.0, 12.4111529263445, 12.4111529263445, 5.494256261396432]],\n",
       " 'ivl': ['r', 'g', 'b', 'm'],\n",
       " 'leaves': [0, 1, 2, 3],\n",
       " 'color_list': ['C1', 'C1', 'C0'],\n",
       " 'leaves_color_list': ['C0', 'C1', 'C1', 'C1']}"
      ]
     },
     "execution_count": 14,
     "metadata": {},
     "output_type": "execute_result"
    },
    {
     "data": {
      "image/png": "[encoded data removed]",
      "text/plain": [
       "<Figure size 432x288 with 1 Axes>"
      ]
     },
     "metadata": {
      "needs_background": "light"
     },
     "output_type": "display_data"
    }
   ],
   "source": [
    "hierarchy.dendrogram(Z, labels= ['r', 'g', 'b', 'm'])"
   ]
  },
  {
   "cell_type": "code",
   "execution_count": null,
   "metadata": {},
   "outputs": [],
   "source": []
  }
 ],
 "metadata": {
  "kernelspec": {
   "display_name": "Python 3",
   "language": "python",
   "name": "python3"
  },
  "language_info": {
   "codemirror_mode": {
    "name": "ipython",
    "version": 3
   },
   "file_extension": ".py",
   "mimetype": "text/x-python",
   "name": "python",
   "nbconvert_exporter": "python",
   "pygments_lexer": "ipython3",
   "version": "3.9.1"
  }
 },
 "nbformat": 4,
 "nbformat_minor": 4
}
