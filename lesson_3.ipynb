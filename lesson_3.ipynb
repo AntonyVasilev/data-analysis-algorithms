{
 "cells": [
  {
   "cell_type": "markdown",
   "metadata": {},
   "source": [
    "### Практическое задание к уроку 3\n",
    "Определите AUC_ROC и AUC_PR для модели логистической регрессии на тестовой выборке. Используйте реализацию модели в виде класса и функцию confusion, чтобы рассчитать TPR, FPR, precision, recal для различных порогов вероятности.  \n",
    "Дополнительное задание(не обязательно): Получите такие же характеристики для линейной регрессии и сравните две модели."
   ]
  },
  {
   "cell_type": "code",
   "execution_count": 1,
   "metadata": {},
   "outputs": [],
   "source": [
    "import numpy as np\n",
    "import matplotlib.pyplot as plt\n",
    "from regressions import linear_regression, logistic_regression\n",
    "from sklearn import datasets\n",
    "from matplotlib.colors import ListedColormap\n",
    "\n",
    "%matplotlib inline"
   ]
  },
  {
   "cell_type": "code",
   "execution_count": 2,
   "metadata": {},
   "outputs": [
    {
     "data": {
      "text/plain": [
       "<matplotlib.collections.PathCollection at 0x1fba4fed490>"
      ]
     },
     "execution_count": 2,
     "metadata": {},
     "output_type": "execute_result"
    },
    {
     "data": {
      "image/png": "[encoded data removed]",
      "text/plain": [
       "<Figure size 576x576 with 1 Axes>"
      ]
     },
     "metadata": {
      "needs_background": "light"
     },
     "output_type": "display_data"
    }
   ],
   "source": [
    "# сгеренируем данные с помощью sklearn.datasets\n",
    "classes = datasets.make_classification(n_samples=100, n_features=2, n_informative=2,\n",
    "                                       n_redundant=0, n_classes=2, random_state=1)\n",
    "# datasets.make_blobs(centers = 2, cluster_std = 1.5, random_state=12)\n",
    "\n",
    "# и изобразим их на графике\n",
    "colors = ListedColormap(['red', 'blue'])\n",
    "\n",
    "plt.figure(figsize=(8, 8))\n",
    "plt.scatter([x[0] for x in classes[0]], [x[1] for x in classes[0]], c=classes[1], cmap=colors)"
   ]
  },
  {
   "cell_type": "code",
   "execution_count": 3,
   "metadata": {},
   "outputs": [
    {
     "name": "stdout",
     "output_type": "stream",
     "text": [
      "Размер массива признаков обучающей выборки (70, 2)\n",
      "Размер массива признаков тестовой выборки (30, 2)\n",
      "Размер массива ответов для обучающей выборки (70,)\n",
      "Размер массива ответов для тестовой выборки (30,)\n"
     ]
    }
   ],
   "source": [
    "# перемешивание датасета\n",
    "np.random.seed(12)\n",
    "shuffle_index = np.random.permutation(classes[0].shape[0])\n",
    "X_shuffled, y_shuffled = classes[0][shuffle_index], classes[1][shuffle_index]\n",
    "\n",
    "# разбивка на обучающую и тестовую выборки\n",
    "train_proportion = 0.7\n",
    "train_test_cut = int(len(classes[0]) * train_proportion)\n",
    "\n",
    "X_train, X_test, y_train, y_test = \\\n",
    "    X_shuffled[:train_test_cut], \\\n",
    "    X_shuffled[train_test_cut:], \\\n",
    "    y_shuffled[:train_test_cut], \\\n",
    "    y_shuffled[train_test_cut:]\n",
    "    \n",
    "print(\"Размер массива признаков обучающей выборки\", X_train.shape)\n",
    "print(\"Размер массива признаков тестовой выборки\", X_test.shape)\n",
    "print(\"Размер массива ответов для обучающей выборки\", y_train.shape)\n",
    "print(\"Размер массива ответов для тестовой выборки\", y_test.shape)"
   ]
  },
  {
   "cell_type": "code",
   "execution_count": 4,
   "metadata": {},
   "outputs": [
    {
     "name": "stdout",
     "output_type": "stream",
     "text": [
      "Итоговый вектор весов w: [[0.32398168 0.01226158]]\n",
      "Точность на обучающей выборке: 97.143\n",
      "Точность на тестовой выборке: 96.667\n"
     ]
    }
   ],
   "source": [
    "mod = logistic_regression()\n",
    "mod.fit(X_train, y_train)\n",
    "y_predicted_test = mod.predict(X_test)\n",
    "y_predicted_train = mod.predict(X_train)\n",
    "\n",
    "# В качестве меры точности возьмем долю правильных ответов\n",
    "train_accuracy = 100.0 - np.mean(np.abs(y_predicted_train - y_train)*100.0)\n",
    "test_accuracy = 100.0 - np.mean(np.abs(y_predicted_test-y_test)*100.0)\n",
    "\n",
    "print(f\"Итоговый вектор весов w: {mod.w}\")\n",
    "print(f\"Точность на обучающей выборке: {train_accuracy:.3f}\")\n",
    "print(f\"Точность на тестовой выборке: {test_accuracy:.3f}\")"
   ]
  },
  {
   "cell_type": "markdown",
   "metadata": {},
   "source": [
    "Расчет AUC_ROC и AUC_PR реализовал в виде отдельного класса. При создании объекта класса подается модель линейной ригрессии. AUC_ROC и AUC_PR расчитываю соответствующие значения. При параметре show_curve=True также смтроится график."
   ]
  },
  {
   "cell_type": "code",
   "execution_count": 5,
   "metadata": {},
   "outputs": [],
   "source": [
    "import matplotlib.pyplot as plt\n",
    "from numpy import trapz\n",
    "\n",
    "class AUC_ROC_PR:\n",
    "    \n",
    "    def __init__(self, model):\n",
    "        self.model = model\n",
    "    \n",
    "    def _confusion(self, X, Y, proba):\n",
    "        TP, FP = np.zeros(len(proba), dtype=int), np.zeros(len(proba), dtype=int)\n",
    "        FN, TN = np.zeros(len(proba), dtype=int), np.zeros(len(proba), dtype=int)\n",
    "        for i, p in enumerate(proba):\n",
    "            predicted = self.model.predict(X, p)\n",
    "            TP[i] = np.sum(np.logical_and(predicted == 1, Y == 1))\n",
    "            FP[i] = np.sum(np.logical_and(predicted == 1, Y == 0))\n",
    "            FN[i] = np.sum(np.logical_and(predicted == 0, Y == 1))\n",
    "            TN[i] = np.sum(np.logical_and(predicted == 0, Y == 0))\n",
    "        return TP, FP, FN, TN\n",
    "    \n",
    "    def _FPR_TPR(self, TP, FP, FN, TN):\n",
    "        FPR = FP / (FP + TN)\n",
    "        TPR = TP / (TP + FN)\n",
    "        FPR = np.flip(FPR)\n",
    "        TPR = np.flip(TPR)\n",
    "        # Добавление 0 или 1 при необходимости \n",
    "        if FPR[0] != 0 or TPR[0] != 0:\n",
    "            FPR, TPR = np.concatenate([[0], FPR]), np.concatenate([[0], TPR])\n",
    "        if FPR[-1] != 1 or TPR[-1] != 1:\n",
    "            FPR, TPR = np.concatenate([FPR, [1.0]]), np.concatenate([TPR, [1.0]])\n",
    "        return FPR, TPR\n",
    "    \n",
    "    def AUC_ROC(self, X, Y, show_curve=False):\n",
    "        proba = np.unique(self.model.predict_proba(X))\n",
    "        TP, FP, FN, TN = self._confusion(X, Y, proba)\n",
    "        FPR, TPR = self._FPR_TPR(TP, FP, FN, TN)\n",
    "        AUC_ROC = trapz(TPR, x = FPR, dx=0.1)\n",
    "        if show_curve:\n",
    "            plt.title('ROC curve')\n",
    "            plt.ylim(0, 1.05)\n",
    "            plt.xlabel('FPR')\n",
    "            plt.ylabel('TPR')\n",
    "            plt.grid()\n",
    "            plt.legend(' ', title=f'AUC-ROC={AUC_ROC:.3f}', loc='lower right')\n",
    "            plt.plot(FPR, TPR)\n",
    "        return AUC_ROC\n",
    "    \n",
    "    def _PR(self, TP, FP, FN):\n",
    "        precision = TP[: -1] / (TP[: -1] + FP[: -1]) \n",
    "        recall  = TP / (TP + FN)\n",
    "        precision = np.flip(precision)\n",
    "        recall = np.flip(recall)\n",
    "        return precision, recall[1:]\n",
    "    \n",
    "    def AUC_PR(self, X, Y, show_curve=False):\n",
    "        proba = np.unique(self.model.predict_proba(X))\n",
    "        TP, FP, FN, TN = self._confusion(X, Y, proba)\n",
    "        precision, recall = self._PR(TP, FP, FN)\n",
    "        AUC_PR = trapz(precision, x = recall, dx=0.1)\n",
    "        if show_curve:\n",
    "            plt.title('PR curve')\n",
    "            plt.ylim(0, 1.05)\n",
    "            plt.xlabel('recall')\n",
    "            plt.ylabel('presision')\n",
    "            plt.grid()\n",
    "            plt.legend(' ', title=f'AUC-PR={AUC_PR:.3f}', loc='lower right')\n",
    "            plt.plot(recall, precision)\n",
    "        return AUC_PR"
   ]
  },
  {
   "cell_type": "code",
   "execution_count": 6,
   "metadata": {},
   "outputs": [],
   "source": [
    "# Создаю экземпляр класса\n",
    "auc_mod = AUC_ROC_PR(mod)"
   ]
  },
  {
   "cell_type": "code",
   "execution_count": 7,
   "metadata": {},
   "outputs": [
    {
     "data": {
      "text/plain": [
       "0.9955357142857143"
      ]
     },
     "execution_count": 7,
     "metadata": {},
     "output_type": "execute_result"
    },
    {
     "data": {
      "image/png": "[encoded data removed]",
      "text/plain": [
       "<Figure size 432x288 with 1 Axes>"
      ]
     },
     "metadata": {
      "needs_background": "light"
     },
     "output_type": "display_data"
    }
   ],
   "source": [
    "# Расчитываю AUC_ROC\n",
    "auc_mod.AUC_ROC(X_test, y_test, True)"
   ]
  },
  {
   "cell_type": "code",
   "execution_count": 8,
   "metadata": {},
   "outputs": [
    {
     "data": {
      "text/plain": [
       "0.9337086397058824"
      ]
     },
     "execution_count": 8,
     "metadata": {},
     "output_type": "execute_result"
    },
    {
     "data": {
      "image/png": "[encoded data removed]",
      "text/plain": [
       "<Figure size 432x288 with 1 Axes>"
      ]
     },
     "metadata": {
      "needs_background": "light"
     },
     "output_type": "display_data"
    }
   ],
   "source": [
    "# Расчитываю AUC_PR\n",
    "auc_mod.AUC_PR(X_test, y_test, True)"
   ]
  },
  {
   "cell_type": "code",
   "execution_count": null,
   "metadata": {},
   "outputs": [],
   "source": []
  }
 ],
 "metadata": {
  "kernelspec": {
   "display_name": "Python 3",
   "language": "python",
   "name": "python3"
  },
  "language_info": {
   "codemirror_mode": {
    "name": "ipython",
    "version": 3
   },
   "file_extension": ".py",
   "mimetype": "text/x-python",
   "name": "python",
   "nbconvert_exporter": "python",
   "pygments_lexer": "ipython3",
   "version": "3.8.5"
  }
 },
 "nbformat": 4,
 "nbformat_minor": 4
}
