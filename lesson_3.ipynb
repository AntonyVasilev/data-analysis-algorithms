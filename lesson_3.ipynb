{
 "cells": [
  {
   "cell_type": "markdown",
   "metadata": {},
   "source": [
    "### Практическое задание к уроку 3\n",
    "Определите AUC_ROC и AUC_PR для модели логистической регрессии на тестовой выборке. Используйте реализацию модели в виде класса и функцию confusion, чтобы рассчитать TPR, FPR, precision, recal для различных порогов вероятности.  \n",
    "Дополнительное задание(не обязательно): Получите такие же характеристики для линейной регрессии и сравните две модели."
   ]
  },
  {
   "cell_type": "code",
   "execution_count": 2,
   "metadata": {},
   "outputs": [],
   "source": [
    "import matplotlib\n",
    "import numpy as np\n",
    "import matplotlib.pyplot as plt\n",
    "from regressions import linear_regression, logistic_regression\n",
    "from scipy.stats import norm\n",
    "from sklearn import datasets\n",
    "from matplotlib.colors import ListedColormap\n",
    "\n",
    "%matplotlib inline"
   ]
  },
  {
   "cell_type": "code",
   "execution_count": 3,
   "metadata": {},
   "outputs": [
    {
     "data": {
      "text/plain": [
       "<matplotlib.collections.PathCollection at 0x1b8c50eb520>"
      ]
     },
     "execution_count": 3,
     "metadata": {},
     "output_type": "execute_result"
    },
    {
     "data": {
      "image/png": "[encoded data removed]",
      "text/plain": [
       "<Figure size 576x576 with 1 Axes>"
      ]
     },
     "metadata": {
      "needs_background": "light"
     },
     "output_type": "display_data"
    }
   ],
   "source": [
    "# сгеренируем данные с помощью sklearn.datasets\n",
    "classes = datasets.make_classification(n_samples=100, n_features=2, n_informative=2,\n",
    "                                       n_redundant=0, n_classes=2, random_state=1)\n",
    "# datasets.make_blobs(centers = 2, cluster_std = 1.5, random_state=12)\n",
    "\n",
    "# и изобразим их на графике\n",
    "colors = ListedColormap(['red', 'blue'])\n",
    "\n",
    "plt.figure(figsize=(8, 8))\n",
    "plt.scatter([x[0] for x in classes[0]], [x[1] for x in classes[0]], c=classes[1], cmap=colors)"
   ]
  },
  {
   "cell_type": "code",
   "execution_count": 4,
   "metadata": {},
   "outputs": [
    {
     "name": "stdout",
     "output_type": "stream",
     "text": [
      "Размер массива признаков обучающей выборки (70, 2)\n",
      "Размер массива признаков тестовой выборки (30, 2)\n",
      "Размер массива ответов для обучающей выборки (70,)\n",
      "Размер массива ответов для тестовой выборки (30,)\n"
     ]
    }
   ],
   "source": [
    "# перемешивание датасета\n",
    "np.random.seed(12)\n",
    "shuffle_index = np.random.permutation(classes[0].shape[0])\n",
    "X_shuffled, y_shuffled = classes[0][shuffle_index], classes[1][shuffle_index]\n",
    "\n",
    "# разбивка на обучающую и тестовую выборки\n",
    "train_proportion = 0.7\n",
    "train_test_cut = int(len(classes[0]) * train_proportion)\n",
    "\n",
    "X_train, X_test, y_train, y_test = \\\n",
    "    X_shuffled[:train_test_cut], \\\n",
    "    X_shuffled[train_test_cut:], \\\n",
    "    y_shuffled[:train_test_cut], \\\n",
    "    y_shuffled[train_test_cut:]\n",
    "    \n",
    "print(\"Размер массива признаков обучающей выборки\", X_train.shape)\n",
    "print(\"Размер массива признаков тестовой выборки\", X_test.shape)\n",
    "print(\"Размер массива ответов для обучающей выборки\", y_train.shape)\n",
    "print(\"Размер массива ответов для тестовой выборки\", y_test.shape)"
   ]
  },
  {
   "cell_type": "code",
   "execution_count": 5,
   "metadata": {},
   "outputs": [
    {
     "name": "stdout",
     "output_type": "stream",
     "text": [
      "Итоговый вектор весов w: [[0.32398168 0.01226158]]\n",
      "Точность на обучающей выборке: 97.143\n",
      "Точность на тестовой выборке: 96.667\n"
     ]
    }
   ],
   "source": [
    "mod=logistic_regression()\n",
    "mod.fit(X_train, y_train)\n",
    "y_predicted_test = mod.predict(X_test)\n",
    "y_predicted_train = mod.predict(X_train)\n",
    "\n",
    "# В качестве меры точности возьмем долю правильных ответов\n",
    "train_accuracy = 100.0 - np.mean(np.abs(y_predicted_train - y_train)*100.0)\n",
    "test_accuracy = 100.0 - np.mean(np.abs(y_predicted_test-y_test)*100.0)\n",
    "\n",
    "print(f\"Итоговый вектор весов w: {mod.w}\")\n",
    "print(f\"Точность на обучающей выборке: {train_accuracy:.3f}\")\n",
    "print(f\"Точность на тестовой выборке: {test_accuracy:.3f}\")"
   ]
  },
  {
   "cell_type": "code",
   "execution_count": 6,
   "metadata": {},
   "outputs": [],
   "source": [
    "proba = np.unique(mod.predict_proba(X_test))"
   ]
  },
  {
   "cell_type": "code",
   "execution_count": 40,
   "metadata": {},
   "outputs": [
    {
     "data": {
      "text/plain": [
       "array([0.37576184, 0.37743532, 0.38605073, 0.39329824, 0.39603114,\n",
       "       0.42197009, 0.42581106, 0.43518686, 0.43566684, 0.43744861,\n",
       "       0.43928215, 0.46380207, 0.46916467, 0.47141598, 0.47900766,\n",
       "       0.51300754, 0.53516296, 0.53568316, 0.54206801, 0.54703978,\n",
       "       0.55547788, 0.5605486 , 0.56403656, 0.56439493, 0.56901128,\n",
       "       0.57091569, 0.57432516, 0.57928111, 0.58140373, 0.59967655])"
      ]
     },
     "execution_count": 40,
     "metadata": {},
     "output_type": "execute_result"
    }
   ],
   "source": [
    "proba"
   ]
  },
  {
   "cell_type": "code",
   "execution_count": 80,
   "metadata": {},
   "outputs": [],
   "source": [
    "from numpy import trapz\n",
    "\n",
    "class AUC_ROC_PR:\n",
    "    \n",
    "    def __init__(self, model):\n",
    "        self.model = model\n",
    "        \n",
    "#     def confusion(self):\n",
    "#         for i in self.proba:\n",
    "            \n",
    "    \n",
    "    def _confusion(self, X, Y, proba):\n",
    "        TP, FP = np.zeros(len(proba), dtype=int), np.zeros(len(proba), dtype=int)\n",
    "        FN, TN = np.zeros(len(proba), dtype=int), np.zeros(len(proba), dtype=int)\n",
    "        for i, p in enumerate(proba):\n",
    "            predicted = self.model.predict(X, p)\n",
    "            TP[i] = np.sum(np.logical_and(predicted == 1, Y == 1))\n",
    "            FP[i] = np.sum(np.logical_and(predicted == 1, Y == 0))\n",
    "            FN[i] = np.sum(np.logical_and(predicted == 0, Y == 1))\n",
    "            TN[i] = np.sum(np.logical_and(predicted == 0, Y == 0))\n",
    "        return TP, FP, FN, TN\n",
    "    \n",
    "    def _FPR_TPR(self, TP, FP, FN, TN):\n",
    "#         assert TP == FP == FN == TN ''\n",
    "        FPR = FP / (FP + TN)\n",
    "        TPR = TP / (TP + FN)\n",
    "        if FPR[0] > 0.5:\n",
    "            FPR = np.flip(FPR)\n",
    "        if TPR[0] > 0.5:\n",
    "            TPR = np.flip(TPR)\n",
    "        if FPR[0] != 0 or TPR[0] != 0:\n",
    "            FPR = np.concatenate([[0], FPR])\n",
    "            TPR = np.concatenate([[0], TPR])\n",
    "        if FPR[-1] != 1 or TPR[-1] != 1:\n",
    "            FPR = np.concatenate([FPR, [1.0]])\n",
    "            TPR = np.concatenate([TPR, [1.0]])\n",
    "        return FPR, TPR\n",
    "    \n",
    "    def AUC_ROC(self, X, Y, show_curve=False):\n",
    "        proba = np.unique(self.model.predict_proba(X))\n",
    "        TP, FP, FN, TN = self._confusion(X, Y, proba)\n",
    "        FPR, TPR = self._FPR_TPR(TP, FP, FN, TN)\n",
    "        \n",
    "        \n",
    "        if show_curve:\n",
    "            plt.title('ROC curve')\n",
    "            plt.ylim(0, 1.05)\n",
    "            plt.xlabel('FPR')\n",
    "            plt.ylabel('TPR')\n",
    "            plt.grid()\n",
    "            plt.legend(' ', title=f'AUC-ROC={self.AUC_ROC:.3f}', loc='lower right')\n",
    "            plt.plot(FPR, TPR)"
   ]
  },
  {
   "cell_type": "code",
   "execution_count": 81,
   "metadata": {},
   "outputs": [],
   "source": [
    "auc_mod = AUC_ROC_PR(mod)"
   ]
  },
  {
   "cell_type": "code",
   "execution_count": 52,
   "metadata": {},
   "outputs": [],
   "source": [
    "a1, a2, a3, a4 = auc_mod._confusion(X_test, y_test, proba)"
   ]
  },
  {
   "cell_type": "code",
   "execution_count": 82,
   "metadata": {},
   "outputs": [
    {
     "data": {
      "text/plain": [
       "(array([0.        , 0.        , 0.        , 0.        , 0.        ,\n",
       "        0.        , 0.        , 0.        , 0.        , 0.        ,\n",
       "        0.        , 0.        , 0.        , 0.        , 0.        ,\n",
       "        0.        , 0.07142857, 0.07142857, 0.14285714, 0.21428571,\n",
       "        0.28571429, 0.35714286, 0.42857143, 0.5       , 0.57142857,\n",
       "        0.64285714, 0.71428571, 0.78571429, 0.85714286, 0.92857143,\n",
       "        1.        ]),\n",
       " array([0.    , 0.0625, 0.125 , 0.1875, 0.25  , 0.3125, 0.375 , 0.4375,\n",
       "        0.5   , 0.5625, 0.625 , 0.6875, 0.75  , 0.8125, 0.875 , 0.9375,\n",
       "        0.9375, 1.    , 1.    , 1.    , 1.    , 1.    , 1.    , 1.    ,\n",
       "        1.    , 1.    , 1.    , 1.    , 1.    , 1.    , 1.    ]))"
      ]
     },
     "execution_count": 82,
     "metadata": {},
     "output_type": "execute_result"
    }
   ],
   "source": [
    "auc_mod._FPR_TPR(a1, a2, a3, a4)"
   ]
  },
  {
   "cell_type": "code",
   "execution_count": 25,
   "metadata": {},
   "outputs": [],
   "source": [
    "def confusion(predicted, actual):\n",
    "    TP=np.sum(np.logical_and(predicted==1, actual==1))\n",
    "    FP=np.sum(np.logical_and(predicted==1, actual==0))\n",
    "    FN=np.sum(np.logical_and(predicted==0, actual==1))\n",
    "    TN=np.sum(np.logical_and(predicted==0, actual==0))\n",
    "    return {'TP': TP, 'FP': FP, 'FN': FN, 'TN': TN}"
   ]
  },
  {
   "cell_type": "code",
   "execution_count": 26,
   "metadata": {},
   "outputs": [
    {
     "name": "stdout",
     "output_type": "stream",
     "text": [
      "Для порога по вероятности 0.37576183889983183 на тестовой выборке имеем: {'TP': 16, 'FP': 13, 'FN': 0, 'TN': 1}\n",
      "Для порога по вероятности 0.37743531819847453 на тестовой выборке имеем: {'TP': 16, 'FP': 12, 'FN': 0, 'TN': 2}\n",
      "Для порога по вероятности 0.38605073396047773 на тестовой выборке имеем: {'TP': 16, 'FP': 11, 'FN': 0, 'TN': 3}\n",
      "Для порога по вероятности 0.3932982404221594 на тестовой выборке имеем: {'TP': 16, 'FP': 10, 'FN': 0, 'TN': 4}\n",
      "Для порога по вероятности 0.3960311448763592 на тестовой выборке имеем: {'TP': 16, 'FP': 9, 'FN': 0, 'TN': 5}\n",
      "Для порога по вероятности 0.4219700922749085 на тестовой выборке имеем: {'TP': 16, 'FP': 8, 'FN': 0, 'TN': 6}\n",
      "Для порога по вероятности 0.4258110607284189 на тестовой выборке имеем: {'TP': 16, 'FP': 7, 'FN': 0, 'TN': 7}\n",
      "Для порога по вероятности 0.4351868598210908 на тестовой выборке имеем: {'TP': 16, 'FP': 6, 'FN': 0, 'TN': 8}\n",
      "Для порога по вероятности 0.43566683838569675 на тестовой выборке имеем: {'TP': 16, 'FP': 5, 'FN': 0, 'TN': 9}\n",
      "Для порога по вероятности 0.43744861232054794 на тестовой выборке имеем: {'TP': 16, 'FP': 4, 'FN': 0, 'TN': 10}\n",
      "Для порога по вероятности 0.4392821549169758 на тестовой выборке имеем: {'TP': 16, 'FP': 3, 'FN': 0, 'TN': 11}\n",
      "Для порога по вероятности 0.46380207065637397 на тестовой выборке имеем: {'TP': 16, 'FP': 2, 'FN': 0, 'TN': 12}\n",
      "Для порога по вероятности 0.4691646657316933 на тестовой выборке имеем: {'TP': 16, 'FP': 1, 'FN': 0, 'TN': 13}\n",
      "Для порога по вероятности 0.47141598143302305 на тестовой выборке имеем: {'TP': 15, 'FP': 1, 'FN': 1, 'TN': 13}\n",
      "Для порога по вероятности 0.47900766478809503 на тестовой выборке имеем: {'TP': 15, 'FP': 0, 'FN': 1, 'TN': 14}\n",
      "Для порога по вероятности 0.5130075417932576 на тестовой выборке имеем: {'TP': 14, 'FP': 0, 'FN': 2, 'TN': 14}\n",
      "Для порога по вероятности 0.5351629589381997 на тестовой выборке имеем: {'TP': 13, 'FP': 0, 'FN': 3, 'TN': 14}\n",
      "Для порога по вероятности 0.5356831591146942 на тестовой выборке имеем: {'TP': 12, 'FP': 0, 'FN': 4, 'TN': 14}\n",
      "Для порога по вероятности 0.5420680125899462 на тестовой выборке имеем: {'TP': 11, 'FP': 0, 'FN': 5, 'TN': 14}\n",
      "Для порога по вероятности 0.5470397841279183 на тестовой выборке имеем: {'TP': 10, 'FP': 0, 'FN': 6, 'TN': 14}\n",
      "Для порога по вероятности 0.5554778773747202 на тестовой выборке имеем: {'TP': 9, 'FP': 0, 'FN': 7, 'TN': 14}\n",
      "Для порога по вероятности 0.5605485954538282 на тестовой выборке имеем: {'TP': 8, 'FP': 0, 'FN': 8, 'TN': 14}\n",
      "Для порога по вероятности 0.5640365637648698 на тестовой выборке имеем: {'TP': 7, 'FP': 0, 'FN': 9, 'TN': 14}\n",
      "Для порога по вероятности 0.564394932280336 на тестовой выборке имеем: {'TP': 6, 'FP': 0, 'FN': 10, 'TN': 14}\n",
      "Для порога по вероятности 0.5690112812459007 на тестовой выборке имеем: {'TP': 5, 'FP': 0, 'FN': 11, 'TN': 14}\n",
      "Для порога по вероятности 0.5709156918919097 на тестовой выборке имеем: {'TP': 4, 'FP': 0, 'FN': 12, 'TN': 14}\n",
      "Для порога по вероятности 0.5743251614774529 на тестовой выборке имеем: {'TP': 3, 'FP': 0, 'FN': 13, 'TN': 14}\n",
      "Для порога по вероятности 0.5792811063971612 на тестовой выборке имеем: {'TP': 2, 'FP': 0, 'FN': 14, 'TN': 14}\n",
      "Для порога по вероятности 0.5814037305151907 на тестовой выборке имеем: {'TP': 1, 'FP': 0, 'FN': 15, 'TN': 14}\n",
      "Для порога по вероятности 0.5996765491393211 на тестовой выборке имеем: {'TP': 0, 'FP': 0, 'FN': 16, 'TN': 14}\n"
     ]
    }
   ],
   "source": [
    "for p in proba:\n",
    "    print(f\"Для порога по вероятности {p} на тестовой выборке имеем: {confusion(mod.predict(X_test, p), y_test)}\")"
   ]
  },
  {
   "cell_type": "code",
   "execution_count": null,
   "metadata": {},
   "outputs": [],
   "source": []
  }
 ],
 "metadata": {
  "kernelspec": {
   "display_name": "Python 3",
   "language": "python",
   "name": "python3"
  },
  "language_info": {
   "codemirror_mode": {
    "name": "ipython",
    "version": 3
   },
   "file_extension": ".py",
   "mimetype": "text/x-python",
   "name": "python",
   "nbconvert_exporter": "python",
   "pygments_lexer": "ipython3",
   "version": "3.8.5"
  }
 },
 "nbformat": 4,
 "nbformat_minor": 4
}
