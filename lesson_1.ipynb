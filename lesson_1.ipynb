{
 "cells": [
  {
   "cell_type": "markdown",
   "metadata": {},
   "source": [
    "### Практическое задание к уроку 1"
   ]
  },
  {
   "cell_type": "markdown",
   "metadata": {},
   "source": [
    "<b>Оптимизировать x^2*(np.sin(0,5*_x)^2+1)</b>  \n",
    "Какие параметры шага и количества итераций оптимальны? При каких значениях шага оптимизиция не выходит из локальных минимумов?"
   ]
  },
  {
   "cell_type": "code",
   "execution_count": 1,
   "metadata": {},
   "outputs": [],
   "source": [
    "import matplotlib\n",
    "import numpy as np\n",
    "import matplotlib.pyplot as plt\n",
    "%matplotlib inline\n",
    "\n",
    "import warnings\n",
    "warnings.filterwarnings('ignore')"
   ]
  },
  {
   "cell_type": "code",
   "execution_count": 2,
   "metadata": {},
   "outputs": [
    {
     "data": {
      "image/png": "[encoded data removed]",
      "text/plain": [
       "<Figure size 432x288 with 1 Axes>"
      ]
     },
     "metadata": {
      "needs_background": "light"
     },
     "output_type": "display_data"
    }
   ],
   "source": [
    "x = np.linspace(-50, 50, 5000)\n",
    "def func2(_x): return (_x**2)*(np.sin(0.5*_x)**2+1)\n",
    "plt.plot(x, func2(x))\n",
    "plt.show()"
   ]
  },
  {
   "cell_type": "code",
   "execution_count": 3,
   "metadata": {},
   "outputs": [],
   "source": [
    "# в grad1 записанна производная от func1\n",
    "def func1(_x): return (_x**2)*(np.sin(0.5*_x)**2+1)\n",
    "def grad1(_x): return (2*_x * (np.sin(0.5*_x)**2 + 1) + _x**2 * np.sin(0.5*_x) * np.cos(0.5*_x))"
   ]
  },
  {
   "cell_type": "code",
   "execution_count": 4,
   "metadata": {},
   "outputs": [],
   "source": [
    "def calculate_grad(func, x0, delta=0.01): return (func(x0+delta)-func(x0))/delta\n",
    "def calculate_grad2(func, x0, delta=0.01): return (func(x0+delta)-func(x0-delta))/(2*delta)"
   ]
  },
  {
   "cell_type": "code",
   "execution_count": 5,
   "metadata": {},
   "outputs": [
    {
     "name": "stdout",
     "output_type": "stream",
     "text": [
      "true grad -5.632446093915309\n",
      "method1 -5.338481306606013\n",
      "method2 -5.631400087533223\n"
     ]
    }
   ],
   "source": [
    "# Проверяю правильность найденного градиента\n",
    "x0=np.random.uniform(-50, 50)\n",
    "print('true grad', grad1(x0))\n",
    "print('method1', calculate_grad(func1, x0))\n",
    "print('method2', calculate_grad2(func1, x0))"
   ]
  },
  {
   "cell_type": "markdown",
   "metadata": {},
   "source": [
    "Градиент заданной функции, вычисленный мной аналитически, совпадает с компьютерным градиентом. Сделовательно расчет был произведен верно."
   ]
  },
  {
   "cell_type": "code",
   "execution_count": 6,
   "metadata": {},
   "outputs": [],
   "source": [
    "#Добавил вывод резульаттов работы функции fit по флагу show_process\n",
    "class optimizer:\n",
    "    def __init__(self, alpha, n_iter):\n",
    "        self.alpha=alpha\n",
    "        self.n_iter=n_iter\n",
    "    def fit(self, func, grad, x0, show_process=False):\n",
    "        for i in range(self.n_iter):\n",
    "            if show_process:\n",
    "                print(f'x: {x0:.4f}, function: {func(x0):.4f}')\n",
    "            x0-=self.alpha*grad(x0)\n",
    "        return x0"
   ]
  },
  {
   "cell_type": "markdown",
   "metadata": {},
   "source": [
    "Подбираю такое количество итераций и значение alpha, при котором оптимизации требуется минимальное количество итераций для нахождения минимума и при этом она не застревает в локальных минимумах."
   ]
  },
  {
   "cell_type": "code",
   "execution_count": 21,
   "metadata": {},
   "outputs": [
    {
     "name": "stdout",
     "output_type": "stream",
     "text": [
      "\n",
      "Number of iterations: 50:\n",
      "\n",
      "alpha=0.010 - x: -18.6305, function: 351.2428\n",
      "alpha=0.015 - x: -4.5288, function: 32.6370\n",
      "alpha=0.020 - x: -12.2228, function: 153.7624\n",
      "alpha=0.025 - x: 12.2228, function: 153.7624\n",
      "alpha=0.030 - x: -12.2288, function: 153.7635\n",
      "alpha=0.035 - x: -0.4007, function: 0.1669\n",
      "alpha=0.040 - x: -0.1337, function: 0.0180\n",
      "alpha=0.045 - x: -0.1133, function: 0.0129\n",
      "alpha=0.050 - x: -0.0351, function: 0.0012\n",
      "alpha=0.055 - x: -0.0048, function: 0.0000\n",
      "alpha=0.060 - x: 0.0020, function: 0.0000\n",
      "alpha=0.065 - x: -0.0041, function: 0.0000\n",
      "alpha=0.070 - x: -0.0046, function: 0.0000\n",
      "alpha=0.075 - x: 0.0003, function: 0.0000\n",
      "alpha=0.080 - x: nan, function: nan\n",
      "alpha=0.085 - x: -0.0010, function: 0.0000\n",
      "alpha=0.090 - x: nan, function: nan\n",
      "alpha=0.095 - x: nan, function: nan\n",
      "alpha=0.100 - x: 0.0000, function: 0.0000\n",
      "\n",
      "Number of iterations: 100:\n",
      "\n",
      "alpha=0.010 - x: 22.8204, function: 957.0300\n",
      "alpha=0.015 - x: nan, function: nan\n",
      "alpha=0.020 - x: -12.2228, function: 153.7624\n",
      "alpha=0.025 - x: nan, function: nan\n",
      "alpha=0.030 - x: 0.0265, function: 0.0007\n",
      "alpha=0.035 - x: 12.5621, function: 157.8069\n",
      "alpha=0.040 - x: 12.6848, function: 161.4690\n",
      "alpha=0.045 - x: -0.0008, function: 0.0000\n",
      "alpha=0.050 - x: -0.0000, function: 0.0000\n",
      "alpha=0.055 - x: 0.0000, function: 0.0000\n",
      "alpha=0.060 - x: -0.0000, function: 0.0000\n",
      "alpha=0.065 - x: -0.0000, function: 0.0000\n",
      "alpha=0.070 - x: -0.0000, function: 0.0000\n",
      "alpha=0.075 - x: 0.0000, function: 0.0000\n",
      "alpha=0.080 - x: -0.0000, function: 0.0000\n",
      "alpha=0.085 - x: -0.0000, function: 0.0000\n",
      "alpha=0.090 - x: 0.0000, function: 0.0000\n",
      "alpha=0.095 - x: 0.0000, function: 0.0000\n",
      "alpha=0.100 - x: nan, function: nan\n",
      "\n",
      "Number of iterations: 150:\n",
      "\n",
      "alpha=0.010 - x: 23.8968, function: 762.7496\n",
      "alpha=0.015 - x: 0.0942, function: 0.0089\n",
      "alpha=0.020 - x: 12.2228, function: 153.7624\n",
      "alpha=0.025 - x: 12.2228, function: 153.7624\n",
      "alpha=0.030 - x: 12.2228, function: 153.7624\n",
      "alpha=0.035 - x: 12.5621, function: 157.8069\n",
      "alpha=0.040 - x: 12.5018, function: 156.4586\n",
      "alpha=0.045 - x: -0.0000, function: 0.0000\n",
      "alpha=0.050 - x: -0.0000, function: 0.0000\n",
      "alpha=0.055 - x: -0.0000, function: 0.0000\n",
      "alpha=0.060 - x: -0.0000, function: 0.0000\n",
      "alpha=0.065 - x: nan, function: nan\n",
      "alpha=0.070 - x: 0.0000, function: 0.0000\n",
      "alpha=0.075 - x: 0.0000, function: 0.0000\n",
      "alpha=0.080 - x: 0.0000, function: 0.0000\n",
      "alpha=0.085 - x: -0.0000, function: 0.0000\n",
      "alpha=0.090 - x: -0.0000, function: 0.0000\n",
      "alpha=0.095 - x: nan, function: nan\n",
      "alpha=0.100 - x: -0.0000, function: 0.0000\n"
     ]
    }
   ],
   "source": [
    "x0=np.random.uniform(-50, 50)\n",
    "for num_iter in range(50, 151, 50):\n",
    "    print(f'\\nNumber of iterations: {num_iter}:\\n')\n",
    "    for alpha in np.linspace(0.01, 0.1, 19):\n",
    "        opt1=optimizer(alpha, num_iter)\n",
    "        x=opt1.fit(func1, grad1, np.random.uniform(-50, 50))\n",
    "        print(f'alpha={alpha:.3f} - x: {x:.4f}, function: {func1(x):.4f}')"
   ]
  },
  {
   "cell_type": "markdown",
   "metadata": {},
   "source": [
    "Получились следуюште результаты:\n",
    "* Оптимизатор не застревает на локальных минимуиах при alpha >= 0.045.\n",
    "* При 50 итерациях цикла оптимизатор находит минимум при шаге не менее 0.9.\n",
    "* При 100 итерациях цикла оптимизатор находит минимум при шаге не менее 0.6.\n",
    "* При 150 итерациях данное условие достигается при значении alpha около 0.05.   \n",
    "__Оптимальным соотношением параметра шага и количестава итераций будет alpha=0.06 и 100 итераций.__"
   ]
  },
  {
   "cell_type": "code",
   "execution_count": 22,
   "metadata": {},
   "outputs": [
    {
     "name": "stdout",
     "output_type": "stream",
     "text": [
      "x: -5.3271, function: 34.3839\n",
      "x: -5.2481, function: 34.2842\n",
      "x: -5.1747, function: 34.1946\n",
      "x: -5.1007, function: 34.1003\n",
      "x: -5.0208, function: 33.9868\n",
      "x: -4.9291, function: 33.8320\n",
      "x: -4.8173, function: 33.5945\n",
      "x: -4.6728, function: 33.1848\n",
      "x: -4.4752, function: 32.3939\n",
      "x: -4.1905, function: 30.7177\n",
      "x: -3.7676, function: 27.0437\n",
      "x: -3.1557, function: 19.9169\n",
      "x: -2.4026, function: 10.7922\n",
      "x: -1.7469, function: 4.8451\n",
      "x: -1.3240, function: 2.4153\n",
      "x: -1.0541, function: 1.3922\n",
      "x: -0.8666, function: 0.8834\n",
      "x: -0.7271, function: 0.5955\n",
      "x: -0.6183, function: 0.4177\n",
      "x: -0.5306, function: 0.3009\n",
      "x: -0.4583, function: 0.2208\n",
      "x: -0.3976, function: 0.1643\n",
      "x: -0.3462, function: 0.1234\n",
      "x: -0.3022, function: 0.0934\n",
      "x: -0.2643, function: 0.0711\n",
      "x: -0.2315, function: 0.0543\n",
      "x: -0.2030, function: 0.0416\n",
      "x: -0.1781, function: 0.0320\n",
      "x: -0.1564, function: 0.0246\n",
      "x: -0.1374, function: 0.0190\n",
      "x: -0.1208, function: 0.0146\n",
      "x: -0.1062, function: 0.0113\n",
      "x: -0.0934, function: 0.0087\n",
      "x: -0.0821, function: 0.0068\n",
      "x: -0.0722, function: 0.0052\n",
      "x: -0.0635, function: 0.0040\n",
      "x: -0.0559, function: 0.0031\n",
      "x: -0.0492, function: 0.0024\n",
      "x: -0.0433, function: 0.0019\n",
      "x: -0.0381, function: 0.0014\n",
      "x: -0.0335, function: 0.0011\n",
      "x: -0.0295, function: 0.0009\n",
      "x: -0.0259, function: 0.0007\n",
      "x: -0.0228, function: 0.0005\n",
      "x: -0.0201, function: 0.0004\n",
      "x: -0.0177, function: 0.0003\n",
      "x: -0.0156, function: 0.0002\n",
      "x: -0.0137, function: 0.0002\n",
      "x: -0.0120, function: 0.0001\n",
      "x: -0.0106, function: 0.0001\n",
      "x: -0.0093, function: 0.0001\n",
      "x: -0.0082, function: 0.0001\n",
      "x: -0.0072, function: 0.0001\n",
      "x: -0.0064, function: 0.0000\n",
      "x: -0.0056, function: 0.0000\n",
      "x: -0.0049, function: 0.0000\n",
      "x: -0.0043, function: 0.0000\n",
      "x: -0.0038, function: 0.0000\n",
      "x: -0.0034, function: 0.0000\n",
      "x: -0.0030, function: 0.0000\n",
      "x: -0.0026, function: 0.0000\n",
      "x: -0.0023, function: 0.0000\n",
      "x: -0.0020, function: 0.0000\n",
      "x: -0.0018, function: 0.0000\n",
      "x: -0.0016, function: 0.0000\n",
      "x: -0.0014, function: 0.0000\n",
      "x: -0.0012, function: 0.0000\n",
      "x: -0.0011, function: 0.0000\n",
      "x: -0.0009, function: 0.0000\n",
      "x: -0.0008, function: 0.0000\n",
      "x: -0.0007, function: 0.0000\n",
      "x: -0.0006, function: 0.0000\n",
      "x: -0.0006, function: 0.0000\n",
      "x: -0.0005, function: 0.0000\n",
      "x: -0.0004, function: 0.0000\n",
      "x: -0.0004, function: 0.0000\n",
      "x: -0.0003, function: 0.0000\n",
      "x: -0.0003, function: 0.0000\n",
      "x: -0.0003, function: 0.0000\n",
      "x: -0.0002, function: 0.0000\n",
      "x: -0.0002, function: 0.0000\n",
      "x: -0.0002, function: 0.0000\n",
      "x: -0.0002, function: 0.0000\n",
      "x: -0.0001, function: 0.0000\n",
      "x: -0.0001, function: 0.0000\n",
      "x: -0.0001, function: 0.0000\n",
      "x: -0.0001, function: 0.0000\n",
      "x: -0.0001, function: 0.0000\n",
      "x: -0.0001, function: 0.0000\n",
      "x: -0.0001, function: 0.0000\n",
      "x: -0.0001, function: 0.0000\n",
      "x: -0.0000, function: 0.0000\n",
      "x: -0.0000, function: 0.0000\n",
      "x: -0.0000, function: 0.0000\n",
      "x: -0.0000, function: 0.0000\n",
      "x: -0.0000, function: 0.0000\n",
      "x: -0.0000, function: 0.0000\n",
      "x: -0.0000, function: 0.0000\n",
      "x: -0.0000, function: 0.0000\n",
      "x: -0.0000, function: 0.0000\n"
     ]
    }
   ],
   "source": [
    "# Проверяю получившийся результат\n",
    "alpha = 0.06\n",
    "opt1=optimizer(alpha, 100)\n",
    "x=opt1.fit(func1, grad1, np.random.uniform(-50, 50), show_process=True)"
   ]
  },
  {
   "cell_type": "markdown",
   "metadata": {},
   "source": [
    "Минимум функции найден, оптимизатор не застрял в локальном минимуме."
   ]
  },
  {
   "cell_type": "code",
   "execution_count": 32,
   "metadata": {},
   "outputs": [
    {
     "name": "stdout",
     "output_type": "stream",
     "text": [
      "x: -34.4106, function: 2361.7970\n",
      "x: -28.8118, function: 1601.7185\n",
      "x: -31.3447, function: 983.7350\n",
      "x: -30.6498, function: 1070.6417\n",
      "x: -37.0449, function: 1514.0049\n",
      "x: -45.4405, function: 2981.2591\n",
      "x: -16.5130, function: 503.5119\n",
      "x: -17.4456, function: 431.2507\n",
      "x: -19.9612, function: 509.3714\n",
      "x: -14.2206, function: 311.7628\n",
      "x: -10.6054, function: 190.1016\n",
      "x: -11.0094, function: 180.9722\n",
      "x: -11.7025, function: 160.9498\n",
      "x: -12.3165, function: 154.0514\n",
      "x: -12.1600, function: 153.8864\n",
      "x: -12.2578, function: 153.8021\n",
      "x: -12.2008, function: 153.7778\n",
      "x: -12.2358, function: 153.7678\n",
      "x: -12.2149, function: 153.7644\n",
      "x: -12.2276, function: 153.7631\n",
      "x: -12.2200, function: 153.7626\n",
      "x: -12.2246, function: 153.7625\n",
      "x: -12.2218, function: 153.7624\n",
      "x: -12.2235, function: 153.7624\n",
      "x: -12.2225, function: 153.7624\n",
      "x: -12.2231, function: 153.7624\n",
      "x: -12.2227, function: 153.7624\n",
      "x: -12.2229, function: 153.7624\n",
      "x: -12.2228, function: 153.7624\n",
      "x: -12.2229, function: 153.7624\n",
      "x: -12.2228, function: 153.7624\n",
      "x: -12.2228, function: 153.7624\n",
      "x: -12.2228, function: 153.7624\n",
      "x: -12.2228, function: 153.7624\n",
      "x: -12.2228, function: 153.7624\n",
      "x: -12.2228, function: 153.7624\n",
      "x: -12.2228, function: 153.7624\n",
      "x: -12.2228, function: 153.7624\n",
      "x: -12.2228, function: 153.7624\n",
      "x: -12.2228, function: 153.7624\n",
      "x: -12.2228, function: 153.7624\n",
      "x: -12.2228, function: 153.7624\n",
      "x: -12.2228, function: 153.7624\n",
      "x: -12.2228, function: 153.7624\n",
      "x: -12.2228, function: 153.7624\n",
      "x: -12.2228, function: 153.7624\n",
      "x: -12.2228, function: 153.7624\n",
      "x: -12.2228, function: 153.7624\n",
      "x: -12.2228, function: 153.7624\n",
      "x: -12.2228, function: 153.7624\n",
      "x: -12.2228, function: 153.7624\n",
      "x: -12.2228, function: 153.7624\n",
      "x: -12.2228, function: 153.7624\n",
      "x: -12.2228, function: 153.7624\n",
      "x: -12.2228, function: 153.7624\n",
      "x: -12.2228, function: 153.7624\n",
      "x: -12.2228, function: 153.7624\n",
      "x: -12.2228, function: 153.7624\n",
      "x: -12.2228, function: 153.7624\n",
      "x: -12.2228, function: 153.7624\n",
      "x: -12.2228, function: 153.7624\n",
      "x: -12.2228, function: 153.7624\n",
      "x: -12.2228, function: 153.7624\n",
      "x: -12.2228, function: 153.7624\n",
      "x: -12.2228, function: 153.7624\n",
      "x: -12.2228, function: 153.7624\n",
      "x: -12.2228, function: 153.7624\n",
      "x: -12.2228, function: 153.7624\n",
      "x: -12.2228, function: 153.7624\n",
      "x: -12.2228, function: 153.7624\n",
      "x: -12.2228, function: 153.7624\n",
      "x: -12.2228, function: 153.7624\n",
      "x: -12.2228, function: 153.7624\n",
      "x: -12.2228, function: 153.7624\n",
      "x: -12.2228, function: 153.7624\n",
      "x: -12.2228, function: 153.7624\n",
      "x: -12.2228, function: 153.7624\n",
      "x: -12.2228, function: 153.7624\n",
      "x: -12.2228, function: 153.7624\n",
      "x: -12.2228, function: 153.7624\n",
      "x: -12.2228, function: 153.7624\n",
      "x: -12.2228, function: 153.7624\n",
      "x: -12.2228, function: 153.7624\n",
      "x: -12.2228, function: 153.7624\n",
      "x: -12.2228, function: 153.7624\n",
      "x: -12.2228, function: 153.7624\n",
      "x: -12.2228, function: 153.7624\n",
      "x: -12.2228, function: 153.7624\n",
      "x: -12.2228, function: 153.7624\n",
      "x: -12.2228, function: 153.7624\n",
      "x: -12.2228, function: 153.7624\n",
      "x: -12.2228, function: 153.7624\n",
      "x: -12.2228, function: 153.7624\n",
      "x: -12.2228, function: 153.7624\n",
      "x: -12.2228, function: 153.7624\n",
      "x: -12.2228, function: 153.7624\n",
      "x: -12.2228, function: 153.7624\n",
      "x: -12.2228, function: 153.7624\n",
      "x: -12.2228, function: 153.7624\n",
      "x: -12.2228, function: 153.7624\n"
     ]
    }
   ],
   "source": [
    "alpha = 0.025\n",
    "opt1=optimizer(alpha, 100)\n",
    "x=opt1.fit(func1, grad1, np.random.uniform(-50, 50), True)"
   ]
  },
  {
   "cell_type": "markdown",
   "metadata": {},
   "source": [
    "При alpha=0.25 оптимизатор застрязл в локальном минимуме."
   ]
  },
  {
   "cell_type": "code",
   "execution_count": null,
   "metadata": {},
   "outputs": [],
   "source": []
  }
 ],
 "metadata": {
  "kernelspec": {
   "display_name": "Python 3",
   "language": "python",
   "name": "python3"
  },
  "language_info": {
   "codemirror_mode": {
    "name": "ipython",
    "version": 3
   },
   "file_extension": ".py",
   "mimetype": "text/x-python",
   "name": "python",
   "nbconvert_exporter": "python",
   "pygments_lexer": "ipython3",
   "version": "3.8.5"
  }
 },
 "nbformat": 4,
 "nbformat_minor": 5
}
